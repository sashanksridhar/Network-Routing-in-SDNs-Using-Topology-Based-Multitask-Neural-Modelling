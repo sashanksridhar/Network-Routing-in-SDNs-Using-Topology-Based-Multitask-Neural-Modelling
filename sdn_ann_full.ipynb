{
 "cells": [
  {
   "cell_type": "code",
   "execution_count": null,
   "metadata": {
    "colab": {
     "base_uri": "https://localhost:8080/"
    },
    "id": "1iQYbHmVw5S1",
    "outputId": "c3544f0c-a22d-43a9-ed44-56c8108a151d"
   },
   "outputs": [
    {
     "name": "stdout",
     "output_type": "stream",
     "text": [
      "\u001b[33mWARNING: Skipping tensorflow-gpu as it is not installed.\u001b[0m\n",
      "Requirement already satisfied: tensorflow==1.13.1 in /usr/local/lib/python3.6/dist-packages (1.13.1)\n",
      "Requirement already satisfied: six>=1.10.0 in /usr/local/lib/python3.6/dist-packages (from tensorflow==1.13.1) (1.15.0)\n",
      "Requirement already satisfied: tensorboard<1.14.0,>=1.13.0 in /usr/local/lib/python3.6/dist-packages (from tensorflow==1.13.1) (1.13.1)\n",
      "Requirement already satisfied: gast>=0.2.0 in /usr/local/lib/python3.6/dist-packages (from tensorflow==1.13.1) (0.3.3)\n",
      "Requirement already satisfied: protobuf>=3.6.1 in /usr/local/lib/python3.6/dist-packages (from tensorflow==1.13.1) (3.12.4)\n",
      "Requirement already satisfied: wheel>=0.26 in /usr/local/lib/python3.6/dist-packages (from tensorflow==1.13.1) (0.35.1)\n",
      "Requirement already satisfied: keras-preprocessing>=1.0.5 in /usr/local/lib/python3.6/dist-packages (from tensorflow==1.13.1) (1.1.2)\n",
      "Requirement already satisfied: numpy>=1.13.3 in /usr/local/lib/python3.6/dist-packages (from tensorflow==1.13.1) (1.18.5)\n",
      "Requirement already satisfied: tensorflow-estimator<1.14.0rc0,>=1.13.0 in /usr/local/lib/python3.6/dist-packages (from tensorflow==1.13.1) (1.13.0)\n",
      "Requirement already satisfied: termcolor>=1.1.0 in /usr/local/lib/python3.6/dist-packages (from tensorflow==1.13.1) (1.1.0)\n",
      "Requirement already satisfied: keras-applications>=1.0.6 in /usr/local/lib/python3.6/dist-packages (from tensorflow==1.13.1) (1.0.8)\n",
      "Requirement already satisfied: grpcio>=1.8.6 in /usr/local/lib/python3.6/dist-packages (from tensorflow==1.13.1) (1.33.2)\n",
      "Requirement already satisfied: astor>=0.6.0 in /usr/local/lib/python3.6/dist-packages (from tensorflow==1.13.1) (0.8.1)\n",
      "Requirement already satisfied: absl-py>=0.1.6 in /usr/local/lib/python3.6/dist-packages (from tensorflow==1.13.1) (0.10.0)\n",
      "Requirement already satisfied: markdown>=2.6.8 in /usr/local/lib/python3.6/dist-packages (from tensorboard<1.14.0,>=1.13.0->tensorflow==1.13.1) (3.3.3)\n",
      "Requirement already satisfied: werkzeug>=0.11.15 in /usr/local/lib/python3.6/dist-packages (from tensorboard<1.14.0,>=1.13.0->tensorflow==1.13.1) (1.0.1)\n",
      "Requirement already satisfied: setuptools in /usr/local/lib/python3.6/dist-packages (from protobuf>=3.6.1->tensorflow==1.13.1) (50.3.2)\n",
      "Requirement already satisfied: mock>=2.0.0 in /usr/local/lib/python3.6/dist-packages (from tensorflow-estimator<1.14.0rc0,>=1.13.0->tensorflow==1.13.1) (4.0.2)\n",
      "Requirement already satisfied: h5py in /usr/local/lib/python3.6/dist-packages (from keras-applications>=1.0.6->tensorflow==1.13.1) (2.10.0)\n",
      "Requirement already satisfied: importlib-metadata; python_version < \"3.8\" in /usr/local/lib/python3.6/dist-packages (from markdown>=2.6.8->tensorboard<1.14.0,>=1.13.0->tensorflow==1.13.1) (2.0.0)\n",
      "Requirement already satisfied: zipp>=0.5 in /usr/local/lib/python3.6/dist-packages (from importlib-metadata; python_version < \"3.8\"->markdown>=2.6.8->tensorboard<1.14.0,>=1.13.0->tensorflow==1.13.1) (3.4.0)\n"
     ]
    }
   ],
   "source": [
    "!pip3 uninstall tensorflow-gpu==1.14\n",
    "!pip3 install tensorflow==1.13.1\n",
    "# !pip3 install tensorflow-gpu==1.14"
   ]
  },
  {
   "cell_type": "code",
   "execution_count": null,
   "metadata": {
    "colab": {
     "base_uri": "https://localhost:8080/"
    },
    "id": "K-6l4Zwm5WFv",
    "outputId": "6e694250-27aa-46bd-86e4-e28b09f010f1"
   },
   "outputs": [
    {
     "name": "stdout",
     "output_type": "stream",
     "text": [
      "Collecting keras==2.0.8\n",
      "\u001b[?25l  Downloading https://files.pythonhosted.org/packages/67/3f/d117d6e48b19fb9589369f4bdbe883aa88943f8bb4a850559ea5c546fefb/Keras-2.0.8-py2.py3-none-any.whl (276kB)\n",
      "\u001b[K     |████████████████████████████████| 276kB 4.2MB/s \n",
      "\u001b[?25hRequirement already satisfied: pyyaml in /usr/local/lib/python3.6/dist-packages (from keras==2.0.8) (3.13)\n",
      "Requirement already satisfied: six>=1.9.0 in /usr/local/lib/python3.6/dist-packages (from keras==2.0.8) (1.15.0)\n",
      "Requirement already satisfied: numpy>=1.9.1 in /usr/local/lib/python3.6/dist-packages (from keras==2.0.8) (1.18.5)\n",
      "Requirement already satisfied: scipy>=0.14 in /usr/local/lib/python3.6/dist-packages (from keras==2.0.8) (1.4.1)\n",
      "\u001b[31mERROR: textgenrnn 1.4.1 has requirement keras>=2.1.5, but you'll have keras 2.0.8 which is incompatible.\u001b[0m\n",
      "Installing collected packages: keras\n",
      "  Found existing installation: Keras 2.2.4\n",
      "    Uninstalling Keras-2.2.4:\n",
      "      Successfully uninstalled Keras-2.2.4\n",
      "Successfully installed keras-2.0.8\n"
     ]
    }
   ],
   "source": [
    "!pip3 install keras==2.0.8"
   ]
  },
  {
   "cell_type": "code",
   "execution_count": null,
   "metadata": {
    "colab": {
     "base_uri": "https://localhost:8080/"
    },
    "id": "PTv9-W9YxV46",
    "outputId": "7b0ccaa4-0a18-4f44-df4a-bdb509636c50"
   },
   "outputs": [
    {
     "name": "stdout",
     "output_type": "stream",
     "text": [
      "Collecting keras==2.2.4\n",
      "  Using cached https://files.pythonhosted.org/packages/5e/10/aa32dad071ce52b5502266b5c659451cfd6ffcbf14e6c8c4f16c0ff5aaab/Keras-2.2.4-py2.py3-none-any.whl\n",
      "Requirement already satisfied: pyyaml in /usr/local/lib/python3.6/dist-packages (from keras==2.2.4) (3.13)\n",
      "Requirement already satisfied: scipy>=0.14 in /usr/local/lib/python3.6/dist-packages (from keras==2.2.4) (1.4.1)\n",
      "Requirement already satisfied: h5py in /usr/local/lib/python3.6/dist-packages (from keras==2.2.4) (2.10.0)\n",
      "Requirement already satisfied: six>=1.9.0 in /usr/local/lib/python3.6/dist-packages (from keras==2.2.4) (1.15.0)\n",
      "Requirement already satisfied: keras-applications>=1.0.6 in /usr/local/lib/python3.6/dist-packages (from keras==2.2.4) (1.0.8)\n",
      "Requirement already satisfied: keras-preprocessing>=1.0.5 in /usr/local/lib/python3.6/dist-packages (from keras==2.2.4) (1.1.2)\n",
      "Requirement already satisfied: numpy>=1.9.1 in /usr/local/lib/python3.6/dist-packages (from keras==2.2.4) (1.18.5)\n",
      "Installing collected packages: keras\n",
      "  Found existing installation: Keras 2.0.8\n",
      "    Uninstalling Keras-2.0.8:\n",
      "      Successfully uninstalled Keras-2.0.8\n",
      "Successfully installed keras-2.2.4\n"
     ]
    }
   ],
   "source": [
    "!pip3 install keras==2.2.4"
   ]
  },
  {
   "cell_type": "code",
   "execution_count": null,
   "metadata": {
    "id": "fM9j4hBNhs3i",
    "colab": {
     "base_uri": "https://localhost:8080/"
    },
    "outputId": "db616f81-3178-47bb-a237-95ba3ce8860b"
   },
   "outputs": [
    {
     "name": "stderr",
     "output_type": "stream",
     "text": [
      "Using TensorFlow backend.\n",
      "/usr/local/lib/python3.6/dist-packages/tensorflow/python/framework/dtypes.py:526: FutureWarning: Passing (type, 1) or '1type' as a synonym of type is deprecated; in a future version of numpy, it will be understood as (type, (1,)) / '(1,)type'.\n",
      "  _np_qint8 = np.dtype([(\"qint8\", np.int8, 1)])\n",
      "/usr/local/lib/python3.6/dist-packages/tensorflow/python/framework/dtypes.py:527: FutureWarning: Passing (type, 1) or '1type' as a synonym of type is deprecated; in a future version of numpy, it will be understood as (type, (1,)) / '(1,)type'.\n",
      "  _np_quint8 = np.dtype([(\"quint8\", np.uint8, 1)])\n",
      "/usr/local/lib/python3.6/dist-packages/tensorflow/python/framework/dtypes.py:528: FutureWarning: Passing (type, 1) or '1type' as a synonym of type is deprecated; in a future version of numpy, it will be understood as (type, (1,)) / '(1,)type'.\n",
      "  _np_qint16 = np.dtype([(\"qint16\", np.int16, 1)])\n",
      "/usr/local/lib/python3.6/dist-packages/tensorflow/python/framework/dtypes.py:529: FutureWarning: Passing (type, 1) or '1type' as a synonym of type is deprecated; in a future version of numpy, it will be understood as (type, (1,)) / '(1,)type'.\n",
      "  _np_quint16 = np.dtype([(\"quint16\", np.uint16, 1)])\n",
      "/usr/local/lib/python3.6/dist-packages/tensorflow/python/framework/dtypes.py:530: FutureWarning: Passing (type, 1) or '1type' as a synonym of type is deprecated; in a future version of numpy, it will be understood as (type, (1,)) / '(1,)type'.\n",
      "  _np_qint32 = np.dtype([(\"qint32\", np.int32, 1)])\n",
      "/usr/local/lib/python3.6/dist-packages/tensorflow/python/framework/dtypes.py:535: FutureWarning: Passing (type, 1) or '1type' as a synonym of type is deprecated; in a future version of numpy, it will be understood as (type, (1,)) / '(1,)type'.\n",
      "  np_resource = np.dtype([(\"resource\", np.ubyte, 1)])\n"
     ]
    }
   ],
   "source": [
    "import csv\n",
    "from sklearn.model_selection import train_test_split\n",
    "import numpy\n",
    "import keras\n",
    "from keras.utils.vis_utils import plot_model\n",
    "import matplotlib.pyplot as plt\n",
    "from keras.models import model_from_json\n",
    "from numpy import loadtxt\n",
    "from keras.models import Sequential\n",
    "from keras.models import Model\n",
    "from keras.layers import Input\n",
    "from keras.layers import Dense\n",
    "import seaborn as sns\n",
    "sns.set()"
   ]
  },
  {
   "cell_type": "code",
   "execution_count": null,
   "metadata": {
    "id": "v2C0CkZYaiGD"
   },
   "outputs": [],
   "source": [
    ""
   ]
  },
  {
   "cell_type": "code",
   "execution_count": null,
   "metadata": {
    "id": "8m1Jdj_saiQD"
   },
   "outputs": [],
   "source": [
    "# shuffled data"
   ]
  },
  {
   "cell_type": "code",
   "execution_count": null,
   "metadata": {
    "id": "yYsiqzWM3k2n"
   },
   "outputs": [],
   "source": [
    "train = []\n",
    "Y = []\n",
    "X = []\n",
    "Xt = []\n",
    "Yt = []\n",
    "Yd = []\n",
    "with open(\"/content/drive/MyDrive/norm_combined_data_1.csv\", 'r') as r:\n",
    "    c = 0\n",
    "    reader = csv.reader(r)\n",
    "    for row in reader:\n",
    "        if c==0:\n",
    "            c+=1\n",
    "            continue\n",
    "        r1 = []\n",
    "        for j in range(0,len(row)):\n",
    "            r1.append(float(row[j]))\n",
    "        X.append(numpy.array(r1[:len(r1)-7]))\n",
    "            #Y.append(numpy.array(i[len(i)-7:]))\n",
    "        Yd.append(r1[len(r1)-7:])\n",
    "            #train.append(r1)\n",
    "            #print(r1)\n",
    "        c+=1"
   ]
  },
  {
   "cell_type": "code",
   "execution_count": null,
   "metadata": {
    "colab": {
     "base_uri": "https://localhost:8080/"
    },
    "id": "4coXuPQp6Ffx",
    "outputId": "4984b51a-4f11-49d4-9d5f-57f3e1e152f1"
   },
   "outputs": [
    {
     "name": "stdout",
     "output_type": "stream",
     "text": [
      "(209715, 23)\n"
     ]
    }
   ],
   "source": [
    "Y1=[]\n",
    "Y2=[]\n",
    "Y3=[]\n",
    "Y4=[]\n",
    "Y5=[]\n",
    "Y6=[]\n",
    "Y7=[]\n",
    "for i in range(0,len(Yd)):\n",
    "    Y1.append(Yd[i][0])\n",
    "    Y2.append(Yd[i][1])\n",
    "    Y3.append(Yd[i][2])\n",
    "    Y4.append(Yd[i][3])\n",
    "    Y5.append(Yd[i][4])\n",
    "    Y6.append(Yd[i][5])\n",
    "    Y7.append(Yd[i][6])\n",
    "Xout = numpy.array(X)\n",
    "Y1 = numpy.array(Y1)\n",
    "Y2 = numpy.array(Y2)\n",
    "Y3 = numpy.array(Y3)\n",
    "Y4 = numpy.array(Y4)\n",
    "Y5 = numpy.array(Y5)\n",
    "Y6 = numpy.array(Y6)\n",
    "Y7 = numpy.array(Y7)\n",
    "print(Xout.shape)"
   ]
  },
  {
   "cell_type": "code",
   "execution_count": null,
   "metadata": {
    "id": "ai7xdcB63kzV"
   },
   "outputs": [],
   "source": [
    "# shuffled data\n",
    "visible = Input(shape=(23,))\n",
    "\n",
    "\n",
    "c1 = Dense(23,activation='relu')(visible)\n",
    "c2 = Dense(16,activation='relu')(c1)\n",
    "s1 = Dense(1,activation='sigmoid')(c2)\n",
    "s2 = Dense(1,activation='sigmoid')(c2)\n",
    "s3 = Dense(1,activation='sigmoid')(c2)\n",
    "s4 = Dense(1,activation='sigmoid')(c2)\n",
    "s5 = Dense(1,activation='sigmoid')(c2)\n",
    "s6 = Dense(1,activation='sigmoid')(c2)\n",
    "s7 = Dense(1,activation='sigmoid')(c2)\n",
    "\n",
    "model = Model(inputs=visible,outputs=[s1,s2,s3,s4,s5,s6,s7])\n",
    "model.compile(loss='binary_crossentropy', optimizer='adam', metrics=['accuracy'])"
   ]
  },
  {
   "cell_type": "code",
   "execution_count": null,
   "metadata": {
    "colab": {
     "base_uri": "https://localhost:8080/"
    },
    "id": "gvoaNvvb3x1p",
    "outputId": "57187f02-1fea-4302-fb04-0100a800d6a6"
   },
   "outputs": [
    {
     "name": "stdout",
     "output_type": "stream",
     "text": [
      "Train on 167772 samples, validate on 41943 samples\n",
      "Epoch 1/5\n",
      "167772/167772 [==============================] - 7s 44us/step - loss: 1.3518 - dense_42_loss: 0.1293 - dense_43_loss: 0.1658 - dense_44_loss: 0.1096 - dense_45_loss: 0.1225 - dense_46_loss: 0.2236 - dense_47_loss: 0.3493 - dense_48_loss: 0.2516 - dense_42_acc: 0.9445 - dense_43_acc: 0.9374 - dense_44_acc: 0.9544 - dense_45_acc: 0.9695 - dense_46_acc: 0.9163 - dense_47_acc: 0.8517 - dense_48_acc: 0.8874 - val_loss: 0.6145 - val_dense_42_loss: 0.0318 - val_dense_43_loss: 0.0592 - val_dense_44_loss: 0.0253 - val_dense_45_loss: 0.0397 - val_dense_46_loss: 0.0619 - val_dense_47_loss: 0.3008 - val_dense_48_loss: 0.0958 - val_dense_42_acc: 0.9886 - val_dense_43_acc: 0.9796 - val_dense_44_acc: 0.9902 - val_dense_45_acc: 0.9862 - val_dense_46_acc: 0.9837 - val_dense_47_acc: 0.8595 - val_dense_48_acc: 0.9681\n",
      "Epoch 2/5\n",
      "167772/167772 [==============================] - 5s 28us/step - loss: 0.5060 - dense_42_loss: 0.0264 - dense_43_loss: 0.0537 - dense_44_loss: 0.0210 - dense_45_loss: 0.0363 - dense_46_loss: 0.0440 - dense_47_loss: 0.2451 - dense_48_loss: 0.0794 - dense_42_acc: 0.9911 - dense_43_acc: 0.9808 - dense_44_acc: 0.9903 - dense_45_acc: 0.9859 - dense_46_acc: 0.9884 - dense_47_acc: 0.9040 - dense_48_acc: 0.9723 - val_loss: 0.3921 - val_dense_42_loss: 0.0232 - val_dense_43_loss: 0.0457 - val_dense_44_loss: 0.0173 - val_dense_45_loss: 0.0304 - val_dense_46_loss: 0.0338 - val_dense_47_loss: 0.1724 - val_dense_48_loss: 0.0694 - val_dense_42_acc: 0.9934 - val_dense_43_acc: 0.9804 - val_dense_44_acc: 0.9880 - val_dense_45_acc: 0.9862 - val_dense_46_acc: 0.9882 - val_dense_47_acc: 0.9398 - val_dense_48_acc: 0.9759\n",
      "Epoch 3/5\n",
      "167772/167772 [==============================] - 5s 28us/step - loss: 0.3250 - dense_42_loss: 0.0195 - dense_43_loss: 0.0411 - dense_44_loss: 0.0168 - dense_45_loss: 0.0265 - dense_46_loss: 0.0269 - dense_47_loss: 0.1272 - dense_48_loss: 0.0669 - dense_42_acc: 0.9959 - dense_43_acc: 0.9832 - dense_44_acc: 0.9900 - dense_45_acc: 0.9862 - dense_46_acc: 0.9906 - dense_47_acc: 0.9508 - dense_48_acc: 0.9738 - val_loss: 0.2702 - val_dense_42_loss: 0.0160 - val_dense_43_loss: 0.0355 - val_dense_44_loss: 0.0152 - val_dense_45_loss: 0.0218 - val_dense_46_loss: 0.0217 - val_dense_47_loss: 0.0986 - val_dense_48_loss: 0.0614 - val_dense_42_acc: 0.9989 - val_dense_43_acc: 0.9822 - val_dense_44_acc: 0.9880 - val_dense_45_acc: 0.9846 - val_dense_46_acc: 0.9920 - val_dense_47_acc: 0.9587 - val_dense_48_acc: 0.9743\n",
      "Epoch 4/5\n",
      "167772/167772 [==============================] - 5s 29us/step - loss: 0.2506 - dense_42_loss: 0.0143 - dense_43_loss: 0.0328 - dense_44_loss: 0.0149 - dense_45_loss: 0.0219 - dense_46_loss: 0.0199 - dense_47_loss: 0.0878 - dense_48_loss: 0.0590 - dense_42_acc: 0.9975 - dense_43_acc: 0.9847 - dense_44_acc: 0.9914 - dense_45_acc: 0.9869 - dense_46_acc: 0.9919 - dense_47_acc: 0.9617 - dense_48_acc: 0.9755 - val_loss: 0.2272 - val_dense_42_loss: 0.0124 - val_dense_43_loss: 0.0296 - val_dense_44_loss: 0.0135 - val_dense_45_loss: 0.0213 - val_dense_46_loss: 0.0177 - val_dense_47_loss: 0.0782 - val_dense_48_loss: 0.0545 - val_dense_42_acc: 0.9988 - val_dense_43_acc: 0.9884 - val_dense_44_acc: 0.9950 - val_dense_45_acc: 0.9896 - val_dense_46_acc: 0.9923 - val_dense_47_acc: 0.9661 - val_dense_48_acc: 0.9759\n",
      "Epoch 5/5\n",
      "167772/167772 [==============================] - 5s 28us/step - loss: 0.2185 - dense_42_loss: 0.0115 - dense_43_loss: 0.0282 - dense_44_loss: 0.0133 - dense_45_loss: 0.0206 - dense_46_loss: 0.0172 - dense_47_loss: 0.0744 - dense_48_loss: 0.0533 - dense_42_acc: 0.9980 - dense_43_acc: 0.9873 - dense_44_acc: 0.9931 - dense_45_acc: 0.9873 - dense_46_acc: 0.9925 - dense_47_acc: 0.9679 - dense_48_acc: 0.9772 - val_loss: 0.2008 - val_dense_42_loss: 0.0104 - val_dense_43_loss: 0.0256 - val_dense_44_loss: 0.0117 - val_dense_45_loss: 0.0190 - val_dense_46_loss: 0.0156 - val_dense_47_loss: 0.0690 - val_dense_48_loss: 0.0495 - val_dense_42_acc: 0.9983 - val_dense_43_acc: 0.9917 - val_dense_44_acc: 0.9938 - val_dense_45_acc: 0.9890 - val_dense_46_acc: 0.9928 - val_dense_47_acc: 0.9705 - val_dense_48_acc: 0.9799\n",
      "__________________________________________________________________________________________________\n",
      "Layer (type)                    Output Shape         Param #     Connected to                     \n",
      "==================================================================================================\n",
      "input_5 (InputLayer)            (None, 23)           0                                            \n",
      "__________________________________________________________________________________________________\n",
      "dense_40 (Dense)                (None, 23)           552         input_5[0][0]                    \n",
      "__________________________________________________________________________________________________\n",
      "dense_41 (Dense)                (None, 16)           384         dense_40[0][0]                   \n",
      "__________________________________________________________________________________________________\n",
      "dense_42 (Dense)                (None, 1)            17          dense_41[0][0]                   \n",
      "__________________________________________________________________________________________________\n",
      "dense_43 (Dense)                (None, 1)            17          dense_41[0][0]                   \n",
      "__________________________________________________________________________________________________\n",
      "dense_44 (Dense)                (None, 1)            17          dense_41[0][0]                   \n",
      "__________________________________________________________________________________________________\n",
      "dense_45 (Dense)                (None, 1)            17          dense_41[0][0]                   \n",
      "__________________________________________________________________________________________________\n",
      "dense_46 (Dense)                (None, 1)            17          dense_41[0][0]                   \n",
      "__________________________________________________________________________________________________\n",
      "dense_47 (Dense)                (None, 1)            17          dense_41[0][0]                   \n",
      "__________________________________________________________________________________________________\n",
      "dense_48 (Dense)                (None, 1)            17          dense_41[0][0]                   \n",
      "==================================================================================================\n",
      "Total params: 1,055\n",
      "Trainable params: 1,055\n",
      "Non-trainable params: 0\n",
      "__________________________________________________________________________________________________\n",
      "None\n",
      "Saved model to disk\n"
     ]
    }
   ],
   "source": [
    "history=model.fit(Xout, y=[Y1,Y2,Y3,Y4,Y5,Y6,Y7], validation_split=0.2, epochs=5, batch_size=128)\n",
    "print(model.summary())\n",
    "model.save(\"/content/drive/MyDrive/shuffled_model_d1.h5\")\n",
    "print(\"Saved model to disk\")"
   ]
  },
  {
   "cell_type": "code",
   "execution_count": null,
   "metadata": {
    "id": "MrttPnk83-Ge"
   },
   "outputs": [],
   "source": [
    ""
   ]
  },
  {
   "cell_type": "code",
   "execution_count": null,
   "metadata": {
    "id": "Hykru4lbTXbV"
   },
   "outputs": [],
   "source": [
    "# data 2\n",
    "train = []\n",
    "Y = []\n",
    "X = []\n",
    "Xt = []\n",
    "Yt = []\n",
    "Yd = []\n",
    "with open(\"/content/drive/MyDrive/norm_combined_data_2.csv\", 'r') as r:\n",
    "    c = 0\n",
    "    reader = csv.reader(r)\n",
    "    for row in reader:\n",
    "        if c==0:\n",
    "            c+=1\n",
    "            continue\n",
    "        r1 = []\n",
    "        for j in range(0,len(row)):\n",
    "            r1.append(float(row[j]))\n",
    "        X.append(numpy.array(r1[:len(r1)-7]))\n",
    "            #Y.append(numpy.array(i[len(i)-7:]))\n",
    "        Yd.append(r1[len(r1)-7:])\n",
    "            #train.append(r1)\n",
    "            #print(r1)\n",
    "        c+=1"
   ]
  },
  {
   "cell_type": "code",
   "execution_count": null,
   "metadata": {
    "id": "GyUt2ppnt7XZ",
    "colab": {
     "base_uri": "https://localhost:8080/"
    },
    "outputId": "825b5d59-cda2-4b22-ef5e-e3cbefc8b4c4"
   },
   "outputs": [
    {
     "name": "stdout",
     "output_type": "stream",
     "text": [
      "(209715, 23)\n"
     ]
    }
   ],
   "source": [
    "Y1=[]\n",
    "Y2=[]\n",
    "Y3=[]\n",
    "Y4=[]\n",
    "Y5=[]\n",
    "Y6=[]\n",
    "Y7=[]\n",
    "for i in range(0,len(Yd)):\n",
    "    Y1.append(Yd[i][0])\n",
    "    Y2.append(Yd[i][1])\n",
    "    Y3.append(Yd[i][2])\n",
    "    Y4.append(Yd[i][3])\n",
    "    Y5.append(Yd[i][4])\n",
    "    Y6.append(Yd[i][5])\n",
    "    Y7.append(Yd[i][6])\n",
    "Xout = numpy.array(X)\n",
    "Y1 = numpy.array(Y1)\n",
    "Y2 = numpy.array(Y2)\n",
    "Y3 = numpy.array(Y3)\n",
    "Y4 = numpy.array(Y4)\n",
    "Y5 = numpy.array(Y5)\n",
    "Y6 = numpy.array(Y6)\n",
    "Y7 = numpy.array(Y7)\n",
    "print(Xout.shape)"
   ]
  },
  {
   "cell_type": "code",
   "execution_count": null,
   "metadata": {
    "id": "1EGcljQCTgpQ",
    "colab": {
     "base_uri": "https://localhost:8080/"
    },
    "outputId": "64ee8420-51c7-4d01-f2fd-04749283196d"
   },
   "outputs": [
    {
     "name": "stdout",
     "output_type": "stream",
     "text": [
      "Train on 167772 samples, validate on 41943 samples\n",
      "Epoch 1/5\n",
      "167772/167772 [==============================] - 6s 39us/step - loss: 0.1976 - dense_42_loss: 0.0095 - dense_43_loss: 0.0256 - dense_44_loss: 0.0118 - dense_45_loss: 0.0194 - dense_46_loss: 0.0159 - dense_47_loss: 0.0665 - dense_48_loss: 0.0489 - dense_42_acc: 0.9986 - dense_43_acc: 0.9884 - dense_44_acc: 0.9943 - dense_45_acc: 0.9879 - dense_46_acc: 0.9930 - dense_47_acc: 0.9722 - dense_48_acc: 0.9790 - val_loss: 0.2015 - val_dense_42_loss: 0.0088 - val_dense_43_loss: 0.0259 - val_dense_44_loss: 0.0114 - val_dense_45_loss: 0.0186 - val_dense_46_loss: 0.0151 - val_dense_47_loss: 0.0701 - val_dense_48_loss: 0.0517 - val_dense_42_acc: 0.9990 - val_dense_43_acc: 0.9890 - val_dense_44_acc: 0.9953 - val_dense_45_acc: 0.9894 - val_dense_46_acc: 0.9937 - val_dense_47_acc: 0.9722 - val_dense_48_acc: 0.9764\n",
      "Epoch 2/5\n",
      "167772/167772 [==============================] - 5s 28us/step - loss: 0.1812 - dense_42_loss: 0.0082 - dense_43_loss: 0.0237 - dense_44_loss: 0.0104 - dense_45_loss: 0.0184 - dense_46_loss: 0.0151 - dense_47_loss: 0.0606 - dense_48_loss: 0.0448 - dense_42_acc: 0.9989 - dense_43_acc: 0.9901 - dense_44_acc: 0.9954 - dense_45_acc: 0.9884 - dense_46_acc: 0.9934 - dense_47_acc: 0.9753 - dense_48_acc: 0.9806 - val_loss: 0.1875 - val_dense_42_loss: 0.0076 - val_dense_43_loss: 0.0333 - val_dense_44_loss: 0.0089 - val_dense_45_loss: 0.0226 - val_dense_46_loss: 0.0140 - val_dense_47_loss: 0.0584 - val_dense_48_loss: 0.0426 - val_dense_42_acc: 0.9992 - val_dense_43_acc: 0.9842 - val_dense_44_acc: 0.9942 - val_dense_45_acc: 0.9865 - val_dense_46_acc: 0.9952 - val_dense_47_acc: 0.9791 - val_dense_48_acc: 0.9774\n",
      "Epoch 3/5\n",
      "167772/167772 [==============================] - 5s 27us/step - loss: 0.1666 - dense_42_loss: 0.0070 - dense_43_loss: 0.0222 - dense_44_loss: 0.0091 - dense_45_loss: 0.0176 - dense_46_loss: 0.0142 - dense_47_loss: 0.0554 - dense_48_loss: 0.0412 - dense_42_acc: 0.9990 - dense_43_acc: 0.9906 - dense_44_acc: 0.9962 - dense_45_acc: 0.9893 - dense_46_acc: 0.9937 - dense_47_acc: 0.9780 - dense_48_acc: 0.9820 - val_loss: 0.1582 - val_dense_42_loss: 0.0063 - val_dense_43_loss: 0.0217 - val_dense_44_loss: 0.0077 - val_dense_45_loss: 0.0166 - val_dense_46_loss: 0.0141 - val_dense_47_loss: 0.0530 - val_dense_48_loss: 0.0388 - val_dense_42_acc: 0.9994 - val_dense_43_acc: 0.9947 - val_dense_44_acc: 0.9972 - val_dense_45_acc: 0.9910 - val_dense_46_acc: 0.9968 - val_dense_47_acc: 0.9762 - val_dense_48_acc: 0.9821\n",
      "Epoch 4/5\n",
      "167772/167772 [==============================] - 5s 30us/step - loss: 0.1518 - dense_42_loss: 0.0061 - dense_43_loss: 0.0206 - dense_44_loss: 0.0076 - dense_45_loss: 0.0163 - dense_46_loss: 0.0137 - dense_47_loss: 0.0503 - dense_48_loss: 0.0372 - dense_42_acc: 0.9991 - dense_43_acc: 0.9916 - dense_44_acc: 0.9973 - dense_45_acc: 0.9901 - dense_46_acc: 0.9939 - dense_47_acc: 0.9808 - dense_48_acc: 0.9839 - val_loss: 0.1482 - val_dense_42_loss: 0.0060 - val_dense_43_loss: 0.0219 - val_dense_44_loss: 0.0071 - val_dense_45_loss: 0.0153 - val_dense_46_loss: 0.0143 - val_dense_47_loss: 0.0485 - val_dense_48_loss: 0.0351 - val_dense_42_acc: 0.9988 - val_dense_43_acc: 0.9886 - val_dense_44_acc: 0.9971 - val_dense_45_acc: 0.9920 - val_dense_46_acc: 0.9933 - val_dense_47_acc: 0.9777 - val_dense_48_acc: 0.9828\n",
      "Epoch 5/5\n",
      "167772/167772 [==============================] - 5s 31us/step - loss: 0.1376 - dense_42_loss: 0.0053 - dense_43_loss: 0.0194 - dense_44_loss: 0.0063 - dense_45_loss: 0.0147 - dense_46_loss: 0.0132 - dense_47_loss: 0.0452 - dense_48_loss: 0.0335 - dense_42_acc: 0.9992 - dense_43_acc: 0.9923 - dense_44_acc: 0.9985 - dense_45_acc: 0.9917 - dense_46_acc: 0.9945 - dense_47_acc: 0.9829 - dense_48_acc: 0.9863 - val_loss: 0.1316 - val_dense_42_loss: 0.0051 - val_dense_43_loss: 0.0203 - val_dense_44_loss: 0.0054 - val_dense_45_loss: 0.0138 - val_dense_46_loss: 0.0123 - val_dense_47_loss: 0.0429 - val_dense_48_loss: 0.0319 - val_dense_42_acc: 0.9990 - val_dense_43_acc: 0.9921 - val_dense_44_acc: 0.9990 - val_dense_45_acc: 0.9918 - val_dense_46_acc: 0.9931 - val_dense_47_acc: 0.9801 - val_dense_48_acc: 0.9870\n",
      "__________________________________________________________________________________________________\n",
      "Layer (type)                    Output Shape         Param #     Connected to                     \n",
      "==================================================================================================\n",
      "input_5 (InputLayer)            (None, 23)           0                                            \n",
      "__________________________________________________________________________________________________\n",
      "dense_40 (Dense)                (None, 23)           552         input_5[0][0]                    \n",
      "__________________________________________________________________________________________________\n",
      "dense_41 (Dense)                (None, 16)           384         dense_40[0][0]                   \n",
      "__________________________________________________________________________________________________\n",
      "dense_42 (Dense)                (None, 1)            17          dense_41[0][0]                   \n",
      "__________________________________________________________________________________________________\n",
      "dense_43 (Dense)                (None, 1)            17          dense_41[0][0]                   \n",
      "__________________________________________________________________________________________________\n",
      "dense_44 (Dense)                (None, 1)            17          dense_41[0][0]                   \n",
      "__________________________________________________________________________________________________\n",
      "dense_45 (Dense)                (None, 1)            17          dense_41[0][0]                   \n",
      "__________________________________________________________________________________________________\n",
      "dense_46 (Dense)                (None, 1)            17          dense_41[0][0]                   \n",
      "__________________________________________________________________________________________________\n",
      "dense_47 (Dense)                (None, 1)            17          dense_41[0][0]                   \n",
      "__________________________________________________________________________________________________\n",
      "dense_48 (Dense)                (None, 1)            17          dense_41[0][0]                   \n",
      "==================================================================================================\n",
      "Total params: 1,055\n",
      "Trainable params: 1,055\n",
      "Non-trainable params: 0\n",
      "__________________________________________________________________________________________________\n",
      "None\n",
      "Saved model to disk\n"
     ]
    }
   ],
   "source": [
    "model = keras.models.load_model('/content/drive/MyDrive/shuffled_model_d1.h5')\n",
    "history=model.fit(Xout, y=[Y1,Y2,Y3,Y4,Y5,Y6,Y7], validation_split=0.2, epochs=5, batch_size=128)\n",
    "print(model.summary())\n",
    "model.save(\"/content/drive/MyDrive/shuffled_model_d2.h5\")\n",
    "print(\"Saved model to disk\")"
   ]
  },
  {
   "cell_type": "code",
   "execution_count": null,
   "metadata": {
    "id": "TMi4XBsN9OUc"
   },
   "outputs": [],
   "source": [
    ""
   ]
  },
  {
   "cell_type": "code",
   "execution_count": null,
   "metadata": {
    "id": "Db05WaSG9OqS"
   },
   "outputs": [],
   "source": [
    "# data 3\n",
    "train = []\n",
    "Y = []\n",
    "X = []\n",
    "Xt = []\n",
    "Yt = []\n",
    "Yd = []\n",
    "with open(\"/content/drive/MyDrive/norm_combined_data_3.csv\", 'r') as r:\n",
    "    c = 0\n",
    "    reader = csv.reader(r)\n",
    "    for row in reader:\n",
    "        if c==0:\n",
    "            c+=1\n",
    "            continue\n",
    "        r1 = []\n",
    "        for j in range(0,len(row)):\n",
    "            r1.append(float(row[j]))\n",
    "        X.append(numpy.array(r1[:len(r1)-7]))\n",
    "            #Y.append(numpy.array(i[len(i)-7:]))\n",
    "        Yd.append(r1[len(r1)-7:])\n",
    "            #train.append(r1)\n",
    "            #print(r1)\n",
    "        c+=1"
   ]
  },
  {
   "cell_type": "code",
   "execution_count": null,
   "metadata": {
    "colab": {
     "base_uri": "https://localhost:8080/"
    },
    "id": "R21O8n_S9E43",
    "outputId": "c2bf8fc4-b1c6-4f83-afb8-94a5cc520ed5"
   },
   "outputs": [
    {
     "name": "stdout",
     "output_type": "stream",
     "text": [
      "(209715, 23)\n"
     ]
    }
   ],
   "source": [
    "Y1=[]\n",
    "Y2=[]\n",
    "Y3=[]\n",
    "Y4=[]\n",
    "Y5=[]\n",
    "Y6=[]\n",
    "Y7=[]\n",
    "for i in range(0,len(Yd)):\n",
    "    Y1.append(Yd[i][0])\n",
    "    Y2.append(Yd[i][1])\n",
    "    Y3.append(Yd[i][2])\n",
    "    Y4.append(Yd[i][3])\n",
    "    Y5.append(Yd[i][4])\n",
    "    Y6.append(Yd[i][5])\n",
    "    Y7.append(Yd[i][6])\n",
    "Xout = numpy.array(X)\n",
    "Y1 = numpy.array(Y1)\n",
    "Y2 = numpy.array(Y2)\n",
    "Y3 = numpy.array(Y3)\n",
    "Y4 = numpy.array(Y4)\n",
    "Y5 = numpy.array(Y5)\n",
    "Y6 = numpy.array(Y6)\n",
    "Y7 = numpy.array(Y7)\n",
    "print(Xout.shape)"
   ]
  },
  {
   "cell_type": "code",
   "execution_count": null,
   "metadata": {
    "colab": {
     "base_uri": "https://localhost:8080/"
    },
    "id": "udvruHHp9ZMx",
    "outputId": "7bbeaeb0-d1aa-442d-f3f8-1ec62b2261e5"
   },
   "outputs": [
    {
     "name": "stdout",
     "output_type": "stream",
     "text": [
      "Train on 167772 samples, validate on 41943 samples\n",
      "Epoch 1/5\n",
      "167772/167772 [==============================] - 7s 43us/step - loss: 0.1249 - dense_42_loss: 0.0048 - dense_43_loss: 0.0184 - dense_44_loss: 0.0051 - dense_45_loss: 0.0136 - dense_46_loss: 0.0125 - dense_47_loss: 0.0405 - dense_48_loss: 0.0300 - dense_42_acc: 0.9993 - dense_43_acc: 0.9930 - dense_44_acc: 0.9994 - dense_45_acc: 0.9929 - dense_46_acc: 0.9941 - dense_47_acc: 0.9843 - dense_48_acc: 0.9886 - val_loss: 0.1228 - val_dense_42_loss: 0.0043 - val_dense_43_loss: 0.0213 - val_dense_44_loss: 0.0045 - val_dense_45_loss: 0.0123 - val_dense_46_loss: 0.0140 - val_dense_47_loss: 0.0391 - val_dense_48_loss: 0.0272 - val_dense_42_acc: 0.9990 - val_dense_43_acc: 0.9885 - val_dense_44_acc: 0.9994 - val_dense_45_acc: 0.9926 - val_dense_46_acc: 0.9926 - val_dense_47_acc: 0.9879 - val_dense_48_acc: 0.9885\n",
      "Epoch 2/5\n",
      "167772/167772 [==============================] - 5s 31us/step - loss: 0.1087 - dense_42_loss: 0.0044 - dense_43_loss: 0.0179 - dense_44_loss: 0.0039 - dense_45_loss: 0.0118 - dense_46_loss: 0.0121 - dense_47_loss: 0.0335 - dense_48_loss: 0.0251 - dense_42_acc: 0.9992 - dense_43_acc: 0.9929 - dense_44_acc: 0.9997 - dense_45_acc: 0.9950 - dense_46_acc: 0.9945 - dense_47_acc: 0.9879 - dense_48_acc: 0.9922 - val_loss: 0.0958 - val_dense_42_loss: 0.0033 - val_dense_43_loss: 0.0161 - val_dense_44_loss: 0.0032 - val_dense_45_loss: 0.0105 - val_dense_46_loss: 0.0125 - val_dense_47_loss: 0.0288 - val_dense_48_loss: 0.0214 - val_dense_42_acc: 0.9994 - val_dense_43_acc: 0.9952 - val_dense_44_acc: 1.0000 - val_dense_45_acc: 0.9982 - val_dense_46_acc: 0.9963 - val_dense_47_acc: 0.9897 - val_dense_48_acc: 0.9943\n",
      "Epoch 3/5\n",
      "167772/167772 [==============================] - 5s 32us/step - loss: 0.0921 - dense_42_loss: 0.0039 - dense_43_loss: 0.0167 - dense_44_loss: 0.0029 - dense_45_loss: 0.0102 - dense_46_loss: 0.0116 - dense_47_loss: 0.0266 - dense_48_loss: 0.0202 - dense_42_acc: 0.9993 - dense_43_acc: 0.9942 - dense_44_acc: 0.9999 - dense_45_acc: 0.9964 - dense_46_acc: 0.9948 - dense_47_acc: 0.9930 - dense_48_acc: 0.9955 - val_loss: 0.0824 - val_dense_42_loss: 0.0029 - val_dense_43_loss: 0.0149 - val_dense_44_loss: 0.0023 - val_dense_45_loss: 0.0091 - val_dense_46_loss: 0.0122 - val_dense_47_loss: 0.0235 - val_dense_48_loss: 0.0175 - val_dense_42_acc: 0.9994 - val_dense_43_acc: 0.9979 - val_dense_44_acc: 1.0000 - val_dense_45_acc: 0.9955 - val_dense_46_acc: 0.9930 - val_dense_47_acc: 0.9942 - val_dense_48_acc: 0.9974\n",
      "Epoch 4/5\n",
      "167772/167772 [==============================] - 5s 33us/step - loss: 0.0795 - dense_42_loss: 0.0034 - dense_43_loss: 0.0152 - dense_44_loss: 0.0021 - dense_45_loss: 0.0086 - dense_46_loss: 0.0111 - dense_47_loss: 0.0224 - dense_48_loss: 0.0167 - dense_42_acc: 0.9994 - dense_43_acc: 0.9960 - dense_44_acc: 1.0000 - dense_45_acc: 0.9977 - dense_46_acc: 0.9952 - dense_47_acc: 0.9951 - dense_48_acc: 0.9972 - val_loss: 0.0776 - val_dense_42_loss: 0.0027 - val_dense_43_loss: 0.0139 - val_dense_44_loss: 0.0017 - val_dense_45_loss: 0.0083 - val_dense_46_loss: 0.0134 - val_dense_47_loss: 0.0225 - val_dense_48_loss: 0.0151 - val_dense_42_acc: 0.9994 - val_dense_43_acc: 0.9980 - val_dense_44_acc: 1.0000 - val_dense_45_acc: 0.9961 - val_dense_46_acc: 0.9918 - val_dense_47_acc: 0.9931 - val_dense_48_acc: 0.9974\n",
      "Epoch 5/5\n",
      "167772/167772 [==============================] - 5s 32us/step - loss: 0.0685 - dense_42_loss: 0.0030 - dense_43_loss: 0.0135 - dense_44_loss: 0.0016 - dense_45_loss: 0.0070 - dense_46_loss: 0.0105 - dense_47_loss: 0.0192 - dense_48_loss: 0.0137 - dense_42_acc: 0.9994 - dense_43_acc: 0.9975 - dense_44_acc: 1.0000 - dense_45_acc: 0.9986 - dense_46_acc: 0.9955 - dense_47_acc: 0.9962 - dense_48_acc: 0.9980 - val_loss: 0.0624 - val_dense_42_loss: 0.0022 - val_dense_43_loss: 0.0124 - val_dense_44_loss: 0.0013 - val_dense_45_loss: 0.0059 - val_dense_46_loss: 0.0105 - val_dense_47_loss: 0.0180 - val_dense_48_loss: 0.0121 - val_dense_42_acc: 1.0000 - val_dense_43_acc: 0.9953 - val_dense_44_acc: 1.0000 - val_dense_45_acc: 0.9992 - val_dense_46_acc: 0.9959 - val_dense_47_acc: 0.9962 - val_dense_48_acc: 0.9976\n",
      "__________________________________________________________________________________________________\n",
      "Layer (type)                    Output Shape         Param #     Connected to                     \n",
      "==================================================================================================\n",
      "input_5 (InputLayer)            (None, 23)           0                                            \n",
      "__________________________________________________________________________________________________\n",
      "dense_40 (Dense)                (None, 23)           552         input_5[0][0]                    \n",
      "__________________________________________________________________________________________________\n",
      "dense_41 (Dense)                (None, 16)           384         dense_40[0][0]                   \n",
      "__________________________________________________________________________________________________\n",
      "dense_42 (Dense)                (None, 1)            17          dense_41[0][0]                   \n",
      "__________________________________________________________________________________________________\n",
      "dense_43 (Dense)                (None, 1)            17          dense_41[0][0]                   \n",
      "__________________________________________________________________________________________________\n",
      "dense_44 (Dense)                (None, 1)            17          dense_41[0][0]                   \n",
      "__________________________________________________________________________________________________\n",
      "dense_45 (Dense)                (None, 1)            17          dense_41[0][0]                   \n",
      "__________________________________________________________________________________________________\n",
      "dense_46 (Dense)                (None, 1)            17          dense_41[0][0]                   \n",
      "__________________________________________________________________________________________________\n",
      "dense_47 (Dense)                (None, 1)            17          dense_41[0][0]                   \n",
      "__________________________________________________________________________________________________\n",
      "dense_48 (Dense)                (None, 1)            17          dense_41[0][0]                   \n",
      "==================================================================================================\n",
      "Total params: 1,055\n",
      "Trainable params: 1,055\n",
      "Non-trainable params: 0\n",
      "__________________________________________________________________________________________________\n",
      "None\n",
      "Saved model to disk\n"
     ]
    }
   ],
   "source": [
    "model = keras.models.load_model('/content/drive/MyDrive/shuffled_model_d2.h5')\n",
    "history=model.fit(Xout, y=[Y1,Y2,Y3,Y4,Y5,Y6,Y7], validation_split=0.2, epochs=5, batch_size=128)\n",
    "print(model.summary())\n",
    "model.save(\"/content/drive/MyDrive/shuffled_model_d3.h5\")\n",
    "print(\"Saved model to disk\")"
   ]
  },
  {
   "cell_type": "code",
   "execution_count": null,
   "metadata": {
    "id": "fstQus2F9cda"
   },
   "outputs": [],
   "source": [
    ""
   ]
  },
  {
   "cell_type": "code",
   "execution_count": null,
   "metadata": {
    "id": "ZAcBjUmR95aw"
   },
   "outputs": [],
   "source": [
    "# data 4\n",
    "train = []\n",
    "Y = []\n",
    "X = []\n",
    "Xt = []\n",
    "Yt = []\n",
    "Yd = []\n",
    "with open(\"/content/drive/MyDrive/norm_combined_data_4.csv\", 'r') as r:\n",
    "    c = 0\n",
    "    reader = csv.reader(r)\n",
    "    for row in reader:\n",
    "        if c==0:\n",
    "            c+=1\n",
    "            continue\n",
    "        r1 = []\n",
    "        for j in range(0,len(row)):\n",
    "            r1.append(float(row[j]))\n",
    "        X.append(numpy.array(r1[:len(r1)-7]))\n",
    "            #Y.append(numpy.array(i[len(i)-7:]))\n",
    "        Yd.append(r1[len(r1)-7:])\n",
    "            #train.append(r1)\n",
    "            #print(r1)\n",
    "        c+=1"
   ]
  },
  {
   "cell_type": "code",
   "execution_count": null,
   "metadata": {
    "colab": {
     "base_uri": "https://localhost:8080/"
    },
    "id": "YRt3fbV791rx",
    "outputId": "c7d78021-73bb-4284-febb-34c2d33ce853"
   },
   "outputs": [
    {
     "name": "stdout",
     "output_type": "stream",
     "text": [
      "(209715, 23)\n"
     ]
    }
   ],
   "source": [
    "Y1=[]\n",
    "Y2=[]\n",
    "Y3=[]\n",
    "Y4=[]\n",
    "Y5=[]\n",
    "Y6=[]\n",
    "Y7=[]\n",
    "for i in range(0,len(Yd)):\n",
    "    Y1.append(Yd[i][0])\n",
    "    Y2.append(Yd[i][1])\n",
    "    Y3.append(Yd[i][2])\n",
    "    Y4.append(Yd[i][3])\n",
    "    Y5.append(Yd[i][4])\n",
    "    Y6.append(Yd[i][5])\n",
    "    Y7.append(Yd[i][6])\n",
    "Xout = numpy.array(X)\n",
    "Y1 = numpy.array(Y1)\n",
    "Y2 = numpy.array(Y2)\n",
    "Y3 = numpy.array(Y3)\n",
    "Y4 = numpy.array(Y4)\n",
    "Y5 = numpy.array(Y5)\n",
    "Y6 = numpy.array(Y6)\n",
    "Y7 = numpy.array(Y7)\n",
    "print(Xout.shape)"
   ]
  },
  {
   "cell_type": "code",
   "execution_count": null,
   "metadata": {
    "colab": {
     "base_uri": "https://localhost:8080/"
    },
    "id": "RHAxbhL69cn5",
    "outputId": "ac6af175-9f52-4a6d-cb39-eb2e5b67d028"
   },
   "outputs": [
    {
     "name": "stdout",
     "output_type": "stream",
     "text": [
      "Train on 167772 samples, validate on 41943 samples\n",
      "Epoch 1/5\n",
      "167772/167772 [==============================] - 8s 47us/step - loss: 0.0602 - dense_42_loss: 0.0025 - dense_43_loss: 0.0121 - dense_44_loss: 0.0011 - dense_45_loss: 0.0057 - dense_46_loss: 0.0101 - dense_47_loss: 0.0170 - dense_48_loss: 0.0118 - dense_42_acc: 0.9996 - dense_43_acc: 0.9979 - dense_44_acc: 1.0000 - dense_45_acc: 0.9989 - dense_46_acc: 0.9956 - dense_47_acc: 0.9966 - dense_48_acc: 0.9982 - val_loss: 0.0535 - val_dense_42_loss: 0.0025 - val_dense_43_loss: 0.0107 - val_dense_44_loss: 9.8625e-04 - val_dense_45_loss: 0.0048 - val_dense_46_loss: 0.0101 - val_dense_47_loss: 0.0154 - val_dense_48_loss: 0.0090 - val_dense_42_acc: 0.9995 - val_dense_43_acc: 0.9996 - val_dense_44_acc: 1.0000 - val_dense_45_acc: 0.9993 - val_dense_46_acc: 0.9958 - val_dense_47_acc: 0.9964 - val_dense_48_acc: 0.9984\n",
      "Epoch 2/5\n",
      "167772/167772 [==============================] - 6s 33us/step - loss: 0.0514 - dense_42_loss: 0.0020 - dense_43_loss: 0.0105 - dense_44_loss: 8.3036e-04 - dense_45_loss: 0.0045 - dense_46_loss: 0.0097 - dense_47_loss: 0.0145 - dense_48_loss: 0.0094 - dense_42_acc: 0.9997 - dense_43_acc: 0.9989 - dense_44_acc: 1.0000 - dense_45_acc: 0.9995 - dense_46_acc: 0.9958 - dense_47_acc: 0.9970 - dense_48_acc: 0.9985 - val_loss: 0.0447 - val_dense_42_loss: 0.0022 - val_dense_43_loss: 0.0095 - val_dense_44_loss: 6.8888e-04 - val_dense_45_loss: 0.0035 - val_dense_46_loss: 0.0087 - val_dense_47_loss: 0.0126 - val_dense_48_loss: 0.0075 - val_dense_42_acc: 1.0000 - val_dense_43_acc: 0.9998 - val_dense_44_acc: 1.0000 - val_dense_45_acc: 0.9999 - val_dense_46_acc: 0.9977 - val_dense_47_acc: 0.9981 - val_dense_48_acc: 0.9994\n",
      "Epoch 3/5\n",
      "167772/167772 [==============================] - 6s 34us/step - loss: 0.0449 - dense_42_loss: 0.0016 - dense_43_loss: 0.0090 - dense_44_loss: 6.3114e-04 - dense_45_loss: 0.0035 - dense_46_loss: 0.0093 - dense_47_loss: 0.0129 - dense_48_loss: 0.0079 - dense_42_acc: 0.9998 - dense_43_acc: 0.9992 - dense_44_acc: 1.0000 - dense_45_acc: 0.9997 - dense_46_acc: 0.9959 - dense_47_acc: 0.9972 - dense_48_acc: 0.9987 - val_loss: 0.0421 - val_dense_42_loss: 0.0019 - val_dense_43_loss: 0.0089 - val_dense_44_loss: 5.0797e-04 - val_dense_45_loss: 0.0029 - val_dense_46_loss: 0.0099 - val_dense_47_loss: 0.0116 - val_dense_48_loss: 0.0063 - val_dense_42_acc: 0.9999 - val_dense_43_acc: 0.9989 - val_dense_44_acc: 1.0000 - val_dense_45_acc: 0.9998 - val_dense_46_acc: 0.9943 - val_dense_47_acc: 0.9980 - val_dense_48_acc: 0.9987\n",
      "Epoch 4/5\n",
      "167772/167772 [==============================] - 6s 34us/step - loss: 0.0393 - dense_42_loss: 0.0014 - dense_43_loss: 0.0077 - dense_44_loss: 4.6715e-04 - dense_45_loss: 0.0026 - dense_46_loss: 0.0089 - dense_47_loss: 0.0114 - dense_48_loss: 0.0068 - dense_42_acc: 0.9998 - dense_43_acc: 0.9994 - dense_44_acc: 1.0000 - dense_45_acc: 0.9998 - dense_46_acc: 0.9963 - dense_47_acc: 0.9975 - dense_48_acc: 0.9988 - val_loss: 0.0344 - val_dense_42_loss: 0.0018 - val_dense_43_loss: 0.0069 - val_dense_44_loss: 3.6722e-04 - val_dense_45_loss: 0.0020 - val_dense_46_loss: 0.0083 - val_dense_47_loss: 0.0096 - val_dense_48_loss: 0.0055 - val_dense_42_acc: 0.9995 - val_dense_43_acc: 0.9992 - val_dense_44_acc: 1.0000 - val_dense_45_acc: 0.9999 - val_dense_46_acc: 0.9972 - val_dense_47_acc: 0.9991 - val_dense_48_acc: 0.9997\n",
      "Epoch 5/5\n",
      "167772/167772 [==============================] - 6s 35us/step - loss: 0.0343 - dense_42_loss: 0.0012 - dense_43_loss: 0.0064 - dense_44_loss: 3.7084e-04 - dense_45_loss: 0.0020 - dense_46_loss: 0.0083 - dense_47_loss: 0.0100 - dense_48_loss: 0.0059 - dense_42_acc: 0.9999 - dense_43_acc: 0.9996 - dense_44_acc: 1.0000 - dense_45_acc: 0.9999 - dense_46_acc: 0.9966 - dense_47_acc: 0.9979 - dense_48_acc: 0.9989 - val_loss: 0.0318 - val_dense_42_loss: 0.0016 - val_dense_43_loss: 0.0067 - val_dense_44_loss: 2.7806e-04 - val_dense_45_loss: 0.0017 - val_dense_46_loss: 0.0081 - val_dense_47_loss: 0.0089 - val_dense_48_loss: 0.0045 - val_dense_42_acc: 0.9999 - val_dense_43_acc: 0.9991 - val_dense_44_acc: 1.0000 - val_dense_45_acc: 0.9999 - val_dense_46_acc: 0.9975 - val_dense_47_acc: 0.9978 - val_dense_48_acc: 0.9990\n",
      "__________________________________________________________________________________________________\n",
      "Layer (type)                    Output Shape         Param #     Connected to                     \n",
      "==================================================================================================\n",
      "input_5 (InputLayer)            (None, 23)           0                                            \n",
      "__________________________________________________________________________________________________\n",
      "dense_40 (Dense)                (None, 23)           552         input_5[0][0]                    \n",
      "__________________________________________________________________________________________________\n",
      "dense_41 (Dense)                (None, 16)           384         dense_40[0][0]                   \n",
      "__________________________________________________________________________________________________\n",
      "dense_42 (Dense)                (None, 1)            17          dense_41[0][0]                   \n",
      "__________________________________________________________________________________________________\n",
      "dense_43 (Dense)                (None, 1)            17          dense_41[0][0]                   \n",
      "__________________________________________________________________________________________________\n",
      "dense_44 (Dense)                (None, 1)            17          dense_41[0][0]                   \n",
      "__________________________________________________________________________________________________\n",
      "dense_45 (Dense)                (None, 1)            17          dense_41[0][0]                   \n",
      "__________________________________________________________________________________________________\n",
      "dense_46 (Dense)                (None, 1)            17          dense_41[0][0]                   \n",
      "__________________________________________________________________________________________________\n",
      "dense_47 (Dense)                (None, 1)            17          dense_41[0][0]                   \n",
      "__________________________________________________________________________________________________\n",
      "dense_48 (Dense)                (None, 1)            17          dense_41[0][0]                   \n",
      "==================================================================================================\n",
      "Total params: 1,055\n",
      "Trainable params: 1,055\n",
      "Non-trainable params: 0\n",
      "__________________________________________________________________________________________________\n",
      "None\n",
      "Saved model to disk\n"
     ]
    }
   ],
   "source": [
    "model = keras.models.load_model('/content/drive/MyDrive/shuffled_model_d3.h5')\n",
    "history=model.fit(Xout, y=[Y1,Y2,Y3,Y4,Y5,Y6,Y7], validation_split=0.2, epochs=5, batch_size=128)\n",
    "print(model.summary())\n",
    "model.save(\"/content/drive/MyDrive/shuffled_model_d4.h5\")\n",
    "print(\"Saved model to disk\")"
   ]
  },
  {
   "cell_type": "code",
   "execution_count": null,
   "metadata": {
    "id": "ABMX5Dj3BY0m"
   },
   "outputs": [],
   "source": [
    ""
   ]
  },
  {
   "cell_type": "code",
   "execution_count": null,
   "metadata": {
    "id": "QctvW4oOB3zt"
   },
   "outputs": [],
   "source": [
    "# test\n",
    "train = []\n",
    "Y = []\n",
    "X = []\n",
    "Xt = []\n",
    "Yt = []\n",
    "Yd = []\n",
    "with open(\"/content/drive/MyDrive/norm_combined_data_5.csv\", 'r') as r:\n",
    "    c = 0\n",
    "    reader = csv.reader(r)\n",
    "    for row in reader:\n",
    "        if c==0:\n",
    "            c+=1\n",
    "            continue\n",
    "        r1 = []\n",
    "        for j in range(0,len(row)):\n",
    "            r1.append(float(row[j]))\n",
    "        X.append(numpy.array(r1[:len(r1)-7]))\n",
    "            #Y.append(numpy.array(i[len(i)-7:]))\n",
    "        Yd.append(r1[len(r1)-7:])\n",
    "            #train.append(r1)\n",
    "            #print(r1)\n",
    "        c+=1"
   ]
  },
  {
   "cell_type": "code",
   "execution_count": null,
   "metadata": {
    "colab": {
     "base_uri": "https://localhost:8080/"
    },
    "id": "p2fWm859CA6q",
    "outputId": "7d5a4285-d31c-4833-a14b-35972ec9cb8f"
   },
   "outputs": [
    {
     "name": "stdout",
     "output_type": "stream",
     "text": [
      "(209715, 23)\n"
     ]
    }
   ],
   "source": [
    "Y1=[]\n",
    "Y2=[]\n",
    "Y3=[]\n",
    "Y4=[]\n",
    "Y5=[]\n",
    "Y6=[]\n",
    "Y7=[]\n",
    "for i in range(0,len(Yd)):\n",
    "    Y1.append(Yd[i][0])\n",
    "    Y2.append(Yd[i][1])\n",
    "    Y3.append(Yd[i][2])\n",
    "    Y4.append(Yd[i][3])\n",
    "    Y5.append(Yd[i][4])\n",
    "    Y6.append(Yd[i][5])\n",
    "    Y7.append(Yd[i][6])\n",
    "Xout = numpy.array(X)\n",
    "Y1 = numpy.array(Y1)\n",
    "Y2 = numpy.array(Y2)\n",
    "Y3 = numpy.array(Y3)\n",
    "Y4 = numpy.array(Y4)\n",
    "Y5 = numpy.array(Y5)\n",
    "Y6 = numpy.array(Y6)\n",
    "Y7 = numpy.array(Y7)\n",
    "print(Xout.shape)"
   ]
  },
  {
   "cell_type": "code",
   "execution_count": null,
   "metadata": {
    "colab": {
     "base_uri": "https://localhost:8080/"
    },
    "id": "QM5Cn7MbCPzH",
    "outputId": "0ad9fd58-f3f4-478b-d84a-2b5d61a253f4"
   },
   "outputs": [
    {
     "name": "stdout",
     "output_type": "stream",
     "text": [
      "loss: 3.13%\n",
      "dense_42_loss: 0.11%\n",
      "dense_43_loss: 0.63%\n",
      "dense_44_loss: 0.03%\n",
      "dense_45_loss: 0.17%\n",
      "dense_46_loss: 0.80%\n",
      "dense_47_loss: 0.92%\n",
      "dense_48_loss: 0.49%\n",
      "dense_42_acc: 99.99%\n",
      "dense_43_acc: 99.92%\n",
      "dense_44_acc: 100.00%\n",
      "dense_45_acc: 99.99%\n",
      "dense_46_acc: 99.77%\n",
      "dense_47_acc: 99.76%\n",
      "dense_48_acc: 99.87%\n"
     ]
    }
   ],
   "source": [
    "loaded_model = keras.models.load_model('/content/drive/MyDrive/shuffled_model_d4.h5')\n",
    "score = loaded_model.evaluate(Xout, y=[Y1,Y2,Y3,Y4,Y5,Y6,Y7], verbose=0)\n",
    "for i in range(0,len(score)):\n",
    "    print(\"%s: %.2f%%\" % (loaded_model.metrics_names[i], score[i]*100))\n",
    "\n",
    "predicted = loaded_model.predict(Xout)\n",
    "p_classes = numpy.argmax(predicted,axis=1)"
   ]
  },
  {
   "cell_type": "code",
   "execution_count": null,
   "metadata": {
    "colab": {
     "base_uri": "https://localhost:8080/"
    },
    "id": "hrx5m99lDG7r",
    "outputId": "e3f8814f-bf9f-4a90-ed39-9ca52c6e794b"
   },
   "outputs": [
    {
     "name": "stdout",
     "output_type": "stream",
     "text": [
      "208749\n",
      "99.53937486588941\n"
     ]
    }
   ],
   "source": [
    "p = []\n",
    "\n",
    "for x in numpy.nditer(predicted):\n",
    "    xi = []\n",
    "    for i in range(0,7):\n",
    "\n",
    "        if x[i] < float(0.5):\n",
    "            xi.append(0.0)\n",
    "        else:\n",
    "            xi.append(1.0)\n",
    "    p.append(xi)\n",
    "\n",
    "count = 0\n",
    "for i in range(0,len(Yd)):\n",
    "    v = 1\n",
    "    for j in range(0,len(Yd[i])):\n",
    "        if Yd[i][j]!=p[i][j]:\n",
    "            v = 0\n",
    "            break\n",
    "    if v==1:\n",
    "        count+=1\n",
    "\n",
    "print(count)\n",
    "print((count/len(Yd))*100)\n",
    "\n",
    "#print(history.history.keys())\n"
   ]
  },
  {
   "cell_type": "code",
   "execution_count": null,
   "metadata": {
    "colab": {
     "base_uri": "https://localhost:8080/",
     "height": 318.0
    },
    "id": "QrxoSkKzDiy0",
    "outputId": "58b9b94a-7f52-4d55-deb4-407382a8690a"
   },
   "outputs": [
    {
     "name": "stdout",
     "output_type": "stream",
     "text": [
      "summarize history for dense_3 layer\n"
     ]
    },
    {
     "data": {
      "image/png": "[encoded data removed]",
      "text/plain": [
       "<Figure size 432x288 with 1 Axes>"
      ]
     },
     "metadata": {
      "tags": [],
      "needs_background": "light"
     },
     "output_type": "display_data"
    }
   ],
   "source": [
    "%matplotlib inline\n",
    "print(\"summarize history for dense_3 layer\")\n",
    "# accuracy\n",
    "plt.plot(history.history['dense_43_acc'],sns.xkcd_rgb[\"pale red\"],label=\"Accuracy\", lw=3)\n",
    "plt.plot(history.history['val_dense_43_acc'],sns.xkcd_rgb[\"amber\"], label=\"Val. Acc\", lw=3)\n",
    "#plt.yticks(numpy.arange(ymin, ymax, 0.005))\n",
    "plt.title('Performance Accuracy of dense_layer_3')\n",
    "plt.ylabel('---Accuracy---')\n",
    "plt.xlabel('---Epochs---')\n",
    "plt.legend()\n",
    "plt.savefig('/content/drive/MyDrive/dense_3_acc.png')\n",
    "plt.show()"
   ]
  },
  {
   "cell_type": "code",
   "execution_count": null,
   "metadata": {
    "id": "YVOvnGJ9Eo56"
   },
   "outputs": [],
   "source": [
    "from sklearn.datasets import make_circles\n",
    "from sklearn.metrics import accuracy_score\n",
    "from sklearn.metrics import precision_score\n",
    "from sklearn.metrics import recall_score\n",
    "from sklearn.metrics import f1_score\n",
    "from sklearn.metrics import cohen_kappa_score\n",
    "from sklearn.metrics import roc_auc_score\n",
    "from sklearn.metrics import confusion_matrix\n",
    "from sklearn.metrics import auc\n",
    "from sklearn.metrics import roc_curve\n",
    "import pandas as pd\n",
    "import numpy as np\n"
   ]
  },
  {
   "cell_type": "code",
   "execution_count": null,
   "metadata": {
    "id": "qzqxwZ42GbEW"
   },
   "outputs": [],
   "source": [
    "loaded_model = keras.models.load_model('/content/drive/MyDrive/shuffled_model_d4.h5')"
   ]
  },
  {
   "cell_type": "code",
   "execution_count": null,
   "metadata": {
    "colab": {
     "base_uri": "https://localhost:8080/",
     "height": 1000.0
    },
    "id": "lHP2oQhYEq83",
    "outputId": "e7bed230-f05a-4861-fcf5-9306ce895784"
   },
   "outputs": [
    {
     "name": "stdout",
     "output_type": "stream",
     "text": [
      "loss\n",
      "\n",
      "\n",
      "Accuracy: 0.999914\n",
      "Precision: 0.999914\n",
      "Recall: 0.999914\n",
      "F1 score: 0.999914\n",
      "Cohens kappa: 0.999810\n",
      "[[ 72482      0]\n",
      " [    18 137215]]\n",
      "Predicted    0.0     1.0     All\n",
      "Actual                          \n",
      "0.0        72482       0   72482\n",
      "1.0           18  137215  137233\n",
      "All        72500  137215  209715\n",
      "\n",
      "\n",
      "\n",
      "\n",
      "\n"
     ]
    },
    {
     "data": {
      "image/png": "[encoded data removed]",
      "text/plain": [
       "<Figure size 432x288 with 1 Axes>"
      ]
     },
     "metadata": {
      "tags": [],
      "needs_background": "light"
     },
     "output_type": "display_data"
    },
    {
     "name": "stdout",
     "output_type": "stream",
     "text": [
      "dense_42_loss\n",
      "\n",
      "\n",
      "Accuracy: 0.999242\n",
      "Precision: 0.999242\n",
      "Recall: 0.999242\n",
      "F1 score: 0.999242\n",
      "Cohens kappa: 0.998483\n",
      "[[103663    155]\n",
      " [     4 105893]]\n",
      "Predicted     0.0     1.0     All\n",
      "Actual                           \n",
      "0.0        103663     155  103818\n",
      "1.0             4  105893  105897\n",
      "All        103667  106048  209715\n",
      "\n",
      "\n",
      "\n",
      "\n",
      "\n"
     ]
    },
    {
     "data": {
      "image/png": "[encoded data removed]",
      "text/plain": [
       "<Figure size 432x288 with 1 Axes>"
      ]
     },
     "metadata": {
      "tags": [],
      "needs_background": "light"
     },
     "output_type": "display_data"
    },
    {
     "name": "stdout",
     "output_type": "stream",
     "text": [
      "dense_43_loss\n",
      "\n",
      "\n",
      "Accuracy: 1.000000\n",
      "Precision: 1.000000\n",
      "Recall: 1.000000\n",
      "F1 score: 1.000000\n",
      "Cohens kappa: 1.000000\n",
      "[[159812      0]\n",
      " [     0  49903]]\n",
      "Predicted     0.0    1.0     All\n",
      "Actual                          \n",
      "0.0        159812      0  159812\n",
      "1.0             0  49903   49903\n",
      "All        159812  49903  209715\n",
      "\n",
      "\n",
      "\n",
      "\n",
      "\n"
     ]
    },
    {
     "data": {
      "image/png": "[encoded data removed]",
      "text/plain": [
       "<Figure size 432x288 with 1 Axes>"
      ]
     },
     "metadata": {
      "tags": [],
      "needs_background": "light"
     },
     "output_type": "display_data"
    },
    {
     "name": "stdout",
     "output_type": "stream",
     "text": [
      "dense_44_loss\n",
      "\n",
      "\n",
      "Accuracy: 0.999919\n",
      "Precision: 0.999919\n",
      "Recall: 0.999919\n",
      "F1 score: 0.999919\n",
      "Cohens kappa: 0.999834\n",
      "[[121575      0]\n",
      " [    17  88123]]\n",
      "Predicted     0.0    1.0     All\n",
      "Actual                          \n",
      "0.0        121575      0  121575\n",
      "1.0            17  88123   88140\n",
      "All        121592  88123  209715\n",
      "\n",
      "\n",
      "\n",
      "\n",
      "\n"
     ]
    },
    {
     "data": {
      "image/png": "[encoded data removed]",
      "text/plain": [
       "<Figure size 432x288 with 1 Axes>"
      ]
     },
     "metadata": {
      "tags": [],
      "needs_background": "light"
     },
     "output_type": "display_data"
    },
    {
     "name": "stdout",
     "output_type": "stream",
     "text": [
      "dense_45_loss\n",
      "\n",
      "\n",
      "Accuracy: 0.997735\n",
      "Precision: 0.997735\n",
      "Recall: 0.997735\n",
      "F1 score: 0.997735\n",
      "Cohens kappa: 0.993132\n",
      "[[165797     49]\n",
      " [   426  43443]]\n",
      "Predicted     0.0    1.0     All\n",
      "Actual                          \n",
      "0.0        165797     49  165846\n",
      "1.0           426  43443   43869\n",
      "All        166223  43492  209715\n",
      "\n",
      "\n",
      "\n",
      "\n",
      "\n"
     ]
    },
    {
     "data": {
      "image/png": "[encoded data removed]",
      "text/plain": [
       "<Figure size 432x288 with 1 Axes>"
      ]
     },
     "metadata": {
      "tags": [],
      "needs_background": "light"
     },
     "output_type": "display_data"
    },
    {
     "name": "stdout",
     "output_type": "stream",
     "text": [
      "dense_46_loss\n",
      "\n",
      "\n",
      "Accuracy: 0.997606\n",
      "Precision: 0.997606\n",
      "Recall: 0.997606\n",
      "F1 score: 0.997606\n",
      "Cohens kappa: 0.990816\n",
      "[[177156    334]\n",
      " [   168  32057]]\n",
      "Predicted     0.0    1.0     All\n",
      "Actual                          \n",
      "0.0        177156    334  177490\n",
      "1.0           168  32057   32225\n",
      "All        177324  32391  209715\n",
      "\n",
      "\n",
      "\n",
      "\n",
      "\n"
     ]
    },
    {
     "data": {
      "image/png": "[encoded data removed]",
      "text/plain": [
       "<Figure size 432x288 with 1 Axes>"
      ]
     },
     "metadata": {
      "tags": [],
      "needs_background": "light"
     },
     "output_type": "display_data"
    },
    {
     "name": "stdout",
     "output_type": "stream",
     "text": [
      "dense_47_loss\n",
      "\n",
      "\n",
      "Accuracy: 0.998708\n",
      "Precision: 0.998708\n",
      "Recall: 0.998708\n",
      "F1 score: 0.998708\n",
      "Cohens kappa: 0.997399\n",
      "[[113133    256]\n",
      " [    15  96311]]\n",
      "Predicted     0.0    1.0     All\n",
      "Actual                          \n",
      "0.0        113133    256  113389\n",
      "1.0            15  96311   96326\n",
      "All        113148  96567  209715\n",
      "\n",
      "\n",
      "\n",
      "\n",
      "\n"
     ]
    },
    {
     "data": {
      "image/png": "[encoded data removed]",
      "text/plain": [
       "<Figure size 432x288 with 1 Axes>"
      ]
     },
     "metadata": {
      "tags": [],
      "needs_background": "light"
     },
     "output_type": "display_data"
    }
   ],
   "source": [
    "%matplotlib inline\n",
    "\n",
    "for j in range(0,7):\n",
    "    Yt_1=[]\n",
    "    p_1=[]    \n",
    "    \n",
    "    for i in range(0,len(Yd)):\n",
    "        Yt_1.append(Yd[i][j])\n",
    "        if(p[i][j]<0.5):\n",
    "          p_1.append(0.0)\n",
    "        else:\n",
    "          p_1.append(1.0)\n",
    "        # p_1.append(np.argmax(p[i][j],axis=1))\n",
    "\n",
    "    \n",
    "    # plt.scatter(Yt_1,p_1)\n",
    "    # plt.xlabel(\"True\")\n",
    "    # plt.ylabel(\"Predict\")\n",
    "    # print(Yt_1)\n",
    "    # print(p_1)\n",
    "    print(loaded_model.metrics_names[j])\n",
    "    print(\"\\n\")\n",
    "    accuracy = accuracy_score(Yt_1, p_1)\n",
    "    print('Accuracy: %f' % accuracy)\n",
    "\n",
    "    # precision tp / (tp + fp)\n",
    "    precision = precision_score(Yt_1, p_1, average='micro')\n",
    "    print('Precision: %f' % precision)\n",
    "\n",
    "    # recall: tp / (tp + fn)\n",
    "    recall = recall_score(Yt_1, p_1, average='micro')\n",
    "    print('Recall: %f' % recall)\n",
    "\n",
    "    # f1: 2 tp / (2 tp + fp + fn)\n",
    "    f1 = f1_score(Yt_1, p_1, average='micro')\n",
    "    print('F1 score: %f' % f1)\n",
    "\n",
    "    # kappa\n",
    "    kappa = cohen_kappa_score(Yt_1, p_1)\n",
    "    print('Cohens kappa: %f' % kappa)\n",
    "\n",
    "    # ROC AUC\n",
    "    # auc = roc_auc_score(Yt_1, p_1)\n",
    "    # print('ROC AUC: %f' % auc)\n",
    "    \n",
    "    fp, tp, thresholds_keras = roc_curve(Yt_1,p_1)\n",
    "    \n",
    "    auc_rf = auc(fp,tp)\n",
    "    plt.plot(fp,tp,label=str(j)+\"(area = {:.3f})\".format(auc_rf))\n",
    "    plt.xlabel('False positive rate')\n",
    "    plt.ylabel('True positive rate')\n",
    "    plt.title('ROC curve')\n",
    "    plt.legend(loc='best')\n",
    "\n",
    "    # confusion matrix\n",
    "    matrix = confusion_matrix(Yt_1, p_1)\n",
    "    print(matrix)\n",
    "\n",
    "    exp_series = pd.Series(Yt_1)\n",
    "    pred_series = pd.Series(p_1)\n",
    "    print(pd.crosstab(exp_series, pred_series, rownames=['Actual'], colnames=['Predicted'], margins=True))\n",
    "    print(\"\\n\\n\\n\\n\")\n",
    "    plt.savefig('/content/drive/MyDrive/ROC'+str(j)+'.png')\n",
    "    plt.show()\n",
    "    "
   ]
  },
  {
   "cell_type": "code",
   "execution_count": null,
   "metadata": {
    "id": "H3UnA4ttchIa"
   },
   "outputs": [],
   "source": [
    ""
   ]
  }
 ],
 "metadata": {
  "colab": {
   "name": "sdn_ann_full.ipynb",
   "provenance": [],
   "collapsed_sections": []
  },
  "kernelspec": {
   "name": "python3",
   "display_name": "Python 3"
  },
  "accelerator": "GPU"
 },
 "nbformat": 4,
 "nbformat_minor": 0
}
