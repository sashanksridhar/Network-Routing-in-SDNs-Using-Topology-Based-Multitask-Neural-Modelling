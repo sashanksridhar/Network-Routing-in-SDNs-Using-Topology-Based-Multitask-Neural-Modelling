{
 "cells": [
  {
   "cell_type": "code",
   "execution_count": null,
   "metadata": {
    "id": "49RoYOew8_nr"
   },
   "outputs": [],
   "source": [
    "# GPU\n",
    "\n",
    "#!pip3 install tensorflow-gpu==1.14\n",
    "#!pip3 install keras==2.0.8"
   ]
  },
  {
   "cell_type": "code",
   "execution_count": null,
   "metadata": {
    "colab": {
     "base_uri": "https://localhost:8080/"
    },
    "id": "1iQYbHmVw5S1",
    "outputId": "bc93be44-70e7-4ba1-f290-2073fed7d1ce"
   },
   "outputs": [
    {
     "name": "stdout",
     "output_type": "stream",
     "text": [
      "\u001b[33mWARNING: Skipping tensorflow-gpu as it is not installed.\u001b[0m\n",
      "Collecting tensorflow==1.13.1\n",
      "\u001b[?25l  Downloading https://files.pythonhosted.org/packages/77/63/a9fa76de8dffe7455304c4ed635be4aa9c0bacef6e0633d87d5f54530c5c/tensorflow-1.13.1-cp36-cp36m-manylinux1_x86_64.whl (92.5MB)\n",
      "\u001b[K     |████████████████████████████████| 92.5MB 44kB/s \n",
      "\u001b[?25hRequirement already satisfied: absl-py>=0.1.6 in /usr/local/lib/python3.6/dist-packages (from tensorflow==1.13.1) (0.10.0)\n",
      "Requirement already satisfied: six>=1.10.0 in /usr/local/lib/python3.6/dist-packages (from tensorflow==1.13.1) (1.15.0)\n",
      "Requirement already satisfied: wheel>=0.26 in /usr/local/lib/python3.6/dist-packages (from tensorflow==1.13.1) (0.35.1)\n",
      "Requirement already satisfied: numpy>=1.13.3 in /usr/local/lib/python3.6/dist-packages (from tensorflow==1.13.1) (1.18.5)\n",
      "Collecting tensorflow-estimator<1.14.0rc0,>=1.13.0\n",
      "\u001b[?25l  Downloading https://files.pythonhosted.org/packages/bb/48/13f49fc3fa0fdf916aa1419013bb8f2ad09674c275b4046d5ee669a46873/tensorflow_estimator-1.13.0-py2.py3-none-any.whl (367kB)\n",
      "\u001b[K     |████████████████████████████████| 368kB 40.9MB/s \n",
      "\u001b[?25hRequirement already satisfied: keras-preprocessing>=1.0.5 in /usr/local/lib/python3.6/dist-packages (from tensorflow==1.13.1) (1.1.2)\n",
      "Requirement already satisfied: grpcio>=1.8.6 in /usr/local/lib/python3.6/dist-packages (from tensorflow==1.13.1) (1.33.2)\n",
      "Requirement already satisfied: astor>=0.6.0 in /usr/local/lib/python3.6/dist-packages (from tensorflow==1.13.1) (0.8.1)\n",
      "Collecting keras-applications>=1.0.6\n",
      "\u001b[?25l  Downloading https://files.pythonhosted.org/packages/71/e3/19762fdfc62877ae9102edf6342d71b28fbfd9dea3d2f96a882ce099b03f/Keras_Applications-1.0.8-py3-none-any.whl (50kB)\n",
      "\u001b[K     |████████████████████████████████| 51kB 5.8MB/s \n",
      "\u001b[?25hRequirement already satisfied: termcolor>=1.1.0 in /usr/local/lib/python3.6/dist-packages (from tensorflow==1.13.1) (1.1.0)\n",
      "Requirement already satisfied: protobuf>=3.6.1 in /usr/local/lib/python3.6/dist-packages (from tensorflow==1.13.1) (3.12.4)\n",
      "Requirement already satisfied: gast>=0.2.0 in /usr/local/lib/python3.6/dist-packages (from tensorflow==1.13.1) (0.3.3)\n",
      "Collecting tensorboard<1.14.0,>=1.13.0\n",
      "\u001b[?25l  Downloading https://files.pythonhosted.org/packages/0f/39/bdd75b08a6fba41f098b6cb091b9e8c7a80e1b4d679a581a0ccd17b10373/tensorboard-1.13.1-py3-none-any.whl (3.2MB)\n",
      "\u001b[K     |████████████████████████████████| 3.2MB 36.0MB/s \n",
      "\u001b[?25hCollecting mock>=2.0.0\n",
      "  Downloading https://files.pythonhosted.org/packages/cd/74/d72daf8dff5b6566db857cfd088907bb0355f5dd2914c4b3ef065c790735/mock-4.0.2-py3-none-any.whl\n",
      "Requirement already satisfied: h5py in /usr/local/lib/python3.6/dist-packages (from keras-applications>=1.0.6->tensorflow==1.13.1) (2.10.0)\n",
      "Requirement already satisfied: setuptools in /usr/local/lib/python3.6/dist-packages (from protobuf>=3.6.1->tensorflow==1.13.1) (50.3.2)\n",
      "Requirement already satisfied: markdown>=2.6.8 in /usr/local/lib/python3.6/dist-packages (from tensorboard<1.14.0,>=1.13.0->tensorflow==1.13.1) (3.3.3)\n",
      "Requirement already satisfied: werkzeug>=0.11.15 in /usr/local/lib/python3.6/dist-packages (from tensorboard<1.14.0,>=1.13.0->tensorflow==1.13.1) (1.0.1)\n",
      "Requirement already satisfied: importlib-metadata; python_version < \"3.8\" in /usr/local/lib/python3.6/dist-packages (from markdown>=2.6.8->tensorboard<1.14.0,>=1.13.0->tensorflow==1.13.1) (2.0.0)\n",
      "Requirement already satisfied: zipp>=0.5 in /usr/local/lib/python3.6/dist-packages (from importlib-metadata; python_version < \"3.8\"->markdown>=2.6.8->tensorboard<1.14.0,>=1.13.0->tensorflow==1.13.1) (3.4.0)\n",
      "Installing collected packages: mock, tensorflow-estimator, keras-applications, tensorboard, tensorflow\n",
      "  Found existing installation: tensorflow-estimator 2.3.0\n",
      "    Uninstalling tensorflow-estimator-2.3.0:\n",
      "      Successfully uninstalled tensorflow-estimator-2.3.0\n",
      "  Found existing installation: tensorboard 2.3.0\n",
      "    Uninstalling tensorboard-2.3.0:\n",
      "      Successfully uninstalled tensorboard-2.3.0\n",
      "  Found existing installation: tensorflow 2.3.0\n",
      "    Uninstalling tensorflow-2.3.0:\n",
      "      Successfully uninstalled tensorflow-2.3.0\n",
      "Successfully installed keras-applications-1.0.8 mock-4.0.2 tensorboard-1.13.1 tensorflow-1.13.1 tensorflow-estimator-1.13.0\n"
     ]
    }
   ],
   "source": [
    "!pip3 uninstall tensorflow-gpu==1.14\n",
    "!pip3 install tensorflow==1.13.1\n"
   ]
  },
  {
   "cell_type": "code",
   "execution_count": null,
   "metadata": {
    "colab": {
     "base_uri": "https://localhost:8080/"
    },
    "id": "K-6l4Zwm5WFv",
    "outputId": "65a7e16d-970a-44cf-f01b-a438caa2eff5"
   },
   "outputs": [
    {
     "name": "stdout",
     "output_type": "stream",
     "text": [
      "Requirement already satisfied: keras==2.0.8 in /usr/local/lib/python3.6/dist-packages (2.0.8)\n",
      "Requirement already satisfied: pyyaml in /usr/local/lib/python3.6/dist-packages (from keras==2.0.8) (3.13)\n",
      "Requirement already satisfied: numpy>=1.9.1 in /usr/local/lib/python3.6/dist-packages (from keras==2.0.8) (1.18.5)\n",
      "Requirement already satisfied: six>=1.9.0 in /usr/local/lib/python3.6/dist-packages (from keras==2.0.8) (1.15.0)\n",
      "Requirement already satisfied: scipy>=0.14 in /usr/local/lib/python3.6/dist-packages (from keras==2.0.8) (1.4.1)\n"
     ]
    }
   ],
   "source": [
    ""
   ]
  },
  {
   "cell_type": "code",
   "execution_count": null,
   "metadata": {
    "colab": {
     "base_uri": "https://localhost:8080/"
    },
    "id": "PTv9-W9YxV46",
    "outputId": "5080c063-3ffc-4b35-fd30-3bc3ef768acf"
   },
   "outputs": [
    {
     "name": "stdout",
     "output_type": "stream",
     "text": [
      "Collecting keras==2.2.4\n",
      "\u001b[?25l  Downloading https://files.pythonhosted.org/packages/5e/10/aa32dad071ce52b5502266b5c659451cfd6ffcbf14e6c8c4f16c0ff5aaab/Keras-2.2.4-py2.py3-none-any.whl (312kB)\n",
      "\r\u001b[K     |█                               | 10kB 10.9MB/s eta 0:00:01\r\u001b[K     |██                              | 20kB 15.4MB/s eta 0:00:01\r\u001b[K     |███▏                            | 30kB 19.6MB/s eta 0:00:01\r\u001b[K     |████▏                           | 40kB 10.6MB/s eta 0:00:01\r\u001b[K     |█████▎                          | 51kB 7.3MB/s eta 0:00:01\r\u001b[K     |██████▎                         | 61kB 8.0MB/s eta 0:00:01\r\u001b[K     |███████▍                        | 71kB 8.5MB/s eta 0:00:01\r\u001b[K     |████████▍                       | 81kB 8.4MB/s eta 0:00:01\r\u001b[K     |█████████▍                      | 92kB 9.1MB/s eta 0:00:01\r\u001b[K     |██████████▌                     | 102kB 8.8MB/s eta 0:00:01\r\u001b[K     |███████████▌                    | 112kB 8.8MB/s eta 0:00:01\r\u001b[K     |████████████▋                   | 122kB 8.8MB/s eta 0:00:01\r\u001b[K     |█████████████▋                  | 133kB 8.8MB/s eta 0:00:01\r\u001b[K     |██████████████▊                 | 143kB 8.8MB/s eta 0:00:01\r\u001b[K     |███████████████▊                | 153kB 8.8MB/s eta 0:00:01\r\u001b[K     |████████████████▊               | 163kB 8.8MB/s eta 0:00:01\r\u001b[K     |█████████████████▉              | 174kB 8.8MB/s eta 0:00:01\r\u001b[K     |██████████████████▉             | 184kB 8.8MB/s eta 0:00:01\r\u001b[K     |████████████████████            | 194kB 8.8MB/s eta 0:00:01\r\u001b[K     |█████████████████████           | 204kB 8.8MB/s eta 0:00:01\r\u001b[K     |██████████████████████          | 215kB 8.8MB/s eta 0:00:01\r\u001b[K     |███████████████████████         | 225kB 8.8MB/s eta 0:00:01\r\u001b[K     |████████████████████████▏       | 235kB 8.8MB/s eta 0:00:01\r\u001b[K     |█████████████████████████▏      | 245kB 8.8MB/s eta 0:00:01\r\u001b[K     |██████████████████████████▏     | 256kB 8.8MB/s eta 0:00:01\r\u001b[K     |███████████████████████████▎    | 266kB 8.8MB/s eta 0:00:01\r\u001b[K     |████████████████████████████▎   | 276kB 8.8MB/s eta 0:00:01\r\u001b[K     |█████████████████████████████▍  | 286kB 8.8MB/s eta 0:00:01\r\u001b[K     |██████████████████████████████▍ | 296kB 8.8MB/s eta 0:00:01\r\u001b[K     |███████████████████████████████▌| 307kB 8.8MB/s eta 0:00:01\r\u001b[K     |████████████████████████████████| 317kB 8.8MB/s \n",
      "\u001b[?25hRequirement already satisfied: numpy>=1.9.1 in /usr/local/lib/python3.6/dist-packages (from keras==2.2.4) (1.18.5)\n",
      "Requirement already satisfied: pyyaml in /usr/local/lib/python3.6/dist-packages (from keras==2.2.4) (3.13)\n",
      "Requirement already satisfied: keras-preprocessing>=1.0.5 in /usr/local/lib/python3.6/dist-packages (from keras==2.2.4) (1.1.2)\n",
      "Requirement already satisfied: keras-applications>=1.0.6 in /usr/local/lib/python3.6/dist-packages (from keras==2.2.4) (1.0.8)\n",
      "Requirement already satisfied: h5py in /usr/local/lib/python3.6/dist-packages (from keras==2.2.4) (2.10.0)\n",
      "Requirement already satisfied: six>=1.9.0 in /usr/local/lib/python3.6/dist-packages (from keras==2.2.4) (1.15.0)\n",
      "Requirement already satisfied: scipy>=0.14 in /usr/local/lib/python3.6/dist-packages (from keras==2.2.4) (1.4.1)\n",
      "Installing collected packages: keras\n",
      "  Found existing installation: Keras 2.4.3\n",
      "    Uninstalling Keras-2.4.3:\n",
      "      Successfully uninstalled Keras-2.4.3\n",
      "Successfully installed keras-2.2.4\n"
     ]
    }
   ],
   "source": [
    "!pip3 install keras==2.2.4"
   ]
  },
  {
   "cell_type": "code",
   "execution_count": null,
   "metadata": {
    "id": "fM9j4hBNhs3i",
    "colab": {
     "base_uri": "https://localhost:8080/"
    },
    "outputId": "6f5af38a-9d28-403d-ab64-01c84f6ce6c0"
   },
   "outputs": [
    {
     "name": "stderr",
     "output_type": "stream",
     "text": [
      "Using TensorFlow backend.\n",
      "/usr/local/lib/python3.6/dist-packages/tensorflow/python/framework/dtypes.py:526: FutureWarning: Passing (type, 1) or '1type' as a synonym of type is deprecated; in a future version of numpy, it will be understood as (type, (1,)) / '(1,)type'.\n",
      "  _np_qint8 = np.dtype([(\"qint8\", np.int8, 1)])\n",
      "/usr/local/lib/python3.6/dist-packages/tensorflow/python/framework/dtypes.py:527: FutureWarning: Passing (type, 1) or '1type' as a synonym of type is deprecated; in a future version of numpy, it will be understood as (type, (1,)) / '(1,)type'.\n",
      "  _np_quint8 = np.dtype([(\"quint8\", np.uint8, 1)])\n",
      "/usr/local/lib/python3.6/dist-packages/tensorflow/python/framework/dtypes.py:528: FutureWarning: Passing (type, 1) or '1type' as a synonym of type is deprecated; in a future version of numpy, it will be understood as (type, (1,)) / '(1,)type'.\n",
      "  _np_qint16 = np.dtype([(\"qint16\", np.int16, 1)])\n",
      "/usr/local/lib/python3.6/dist-packages/tensorflow/python/framework/dtypes.py:529: FutureWarning: Passing (type, 1) or '1type' as a synonym of type is deprecated; in a future version of numpy, it will be understood as (type, (1,)) / '(1,)type'.\n",
      "  _np_quint16 = np.dtype([(\"quint16\", np.uint16, 1)])\n",
      "/usr/local/lib/python3.6/dist-packages/tensorflow/python/framework/dtypes.py:530: FutureWarning: Passing (type, 1) or '1type' as a synonym of type is deprecated; in a future version of numpy, it will be understood as (type, (1,)) / '(1,)type'.\n",
      "  _np_qint32 = np.dtype([(\"qint32\", np.int32, 1)])\n",
      "/usr/local/lib/python3.6/dist-packages/tensorflow/python/framework/dtypes.py:535: FutureWarning: Passing (type, 1) or '1type' as a synonym of type is deprecated; in a future version of numpy, it will be understood as (type, (1,)) / '(1,)type'.\n",
      "  np_resource = np.dtype([(\"resource\", np.ubyte, 1)])\n"
     ]
    }
   ],
   "source": [
    "import csv\n",
    "from sklearn.model_selection import train_test_split\n",
    "import numpy\n",
    "import keras\n",
    "from keras.utils.vis_utils import plot_model\n",
    "import matplotlib.pyplot as plt\n",
    "from keras.models import model_from_json\n",
    "from numpy import loadtxt\n",
    "from keras.models import Sequential\n",
    "from keras.models import Model\n",
    "from keras.layers import Input\n",
    "from keras.layers import Dense\n",
    "import seaborn as sns\n",
    "import tensorflow as tf\n",
    "sns.set()"
   ]
  },
  {
   "cell_type": "code",
   "execution_count": null,
   "metadata": {
    "id": "v2C0CkZYaiGD"
   },
   "outputs": [],
   "source": [
    ""
   ]
  },
  {
   "cell_type": "code",
   "execution_count": null,
   "metadata": {
    "id": "8m1Jdj_saiQD"
   },
   "outputs": [],
   "source": [
    "# shuffled data"
   ]
  },
  {
   "cell_type": "code",
   "execution_count": null,
   "metadata": {
    "id": "yYsiqzWM3k2n"
   },
   "outputs": [],
   "source": [
    "train = []\n",
    "Y = []\n",
    "X = []\n",
    "Xt = []\n",
    "Yt = []\n",
    "Yd = []\n",
    "with open(\"/content/drive/MyDrive/norm_combined_data_2.csv\", 'r') as r:\n",
    "    c = 0\n",
    "    reader = csv.reader(r)\n",
    "    for row in reader:\n",
    "        if c==0:\n",
    "            c+=1\n",
    "            continue\n",
    "        r1 = []\n",
    "        for j in range(0,len(row)):\n",
    "            r1.append(float(row[j]))\n",
    "        X.append(numpy.array(r1[:len(r1)-7]))\n",
    "            #Y.append(numpy.array(i[len(i)-7:]))\n",
    "        Yd.append(r1[len(r1)-7:])\n",
    "            #train.append(r1)\n",
    "            #print(r1)\n",
    "        c+=1"
   ]
  },
  {
   "cell_type": "code",
   "execution_count": null,
   "metadata": {
    "colab": {
     "base_uri": "https://localhost:8080/"
    },
    "id": "4coXuPQp6Ffx",
    "outputId": "e1c35b3d-0685-43c7-c739-9e4c09cf83f7"
   },
   "outputs": [
    {
     "name": "stdout",
     "output_type": "stream",
     "text": [
      "(209715, 23)\n"
     ]
    }
   ],
   "source": [
    "Y1=[]\n",
    "Y2=[]\n",
    "Y3=[]\n",
    "Y4=[]\n",
    "Y5=[]\n",
    "Y6=[]\n",
    "Y7=[]\n",
    "for i in range(0,len(Yd)):\n",
    "    Y1.append(Yd[i][0])\n",
    "    Y2.append(Yd[i][1])\n",
    "    Y3.append(Yd[i][2])\n",
    "    Y4.append(Yd[i][3])\n",
    "    Y5.append(Yd[i][4])\n",
    "    Y6.append(Yd[i][5])\n",
    "    Y7.append(Yd[i][6])\n",
    "Xout = numpy.array(X)\n",
    "Y1 = numpy.array(Y1)\n",
    "Y2 = numpy.array(Y2)\n",
    "Y3 = numpy.array(Y3)\n",
    "Y4 = numpy.array(Y4)\n",
    "Y5 = numpy.array(Y5)\n",
    "Y6 = numpy.array(Y6)\n",
    "Y7 = numpy.array(Y7)\n",
    "print(Xout.shape)"
   ]
  },
  {
   "cell_type": "code",
   "execution_count": null,
   "metadata": {
    "id": "ai7xdcB63kzV",
    "colab": {
     "base_uri": "https://localhost:8080/"
    },
    "outputId": "a20d103c-d1d0-4179-c4d6-c21eda73f2b5"
   },
   "outputs": [
    {
     "name": "stdout",
     "output_type": "stream",
     "text": [
      "WARNING:tensorflow:From /usr/local/lib/python3.6/dist-packages/tensorflow/python/framework/op_def_library.py:263: colocate_with (from tensorflow.python.framework.ops) is deprecated and will be removed in a future version.\n",
      "Instructions for updating:\n",
      "Colocations handled automatically by placer.\n"
     ]
    }
   ],
   "source": [
    "# shuffled data\n",
    "visible = Input(shape=(23,))\n",
    "\n",
    "\n",
    "c1 = Dense(23,activation='relu')(visible)\n",
    "c2 = Dense(16,activation='relu')(c1)\n",
    "s1 = Dense(1,activation='sigmoid')(c2)\n",
    "s2 = Dense(1,activation='sigmoid')(c2)\n",
    "s3 = Dense(1,activation='sigmoid')(c2)\n",
    "s4 = Dense(1,activation='sigmoid')(c2)\n",
    "s5 = Dense(1,activation='sigmoid')(c2)\n",
    "s6 = Dense(1,activation='sigmoid')(c2)\n",
    "s7 = Dense(1,activation='sigmoid')(c2)\n",
    "\n",
    "model = Model(inputs=visible,outputs=[s1,s2,s3,s4,s5,s6,s7])\n",
    "#opt = keras.optimizers.Adam(learning_rate=0.001)\n",
    "opt = keras.optimizers.Adam(lr=0.0001)\n",
    "model.compile(loss='binary_crossentropy', optimizer=opt, metrics=['accuracy'])"
   ]
  },
  {
   "cell_type": "code",
   "execution_count": null,
   "metadata": {
    "colab": {
     "base_uri": "https://localhost:8080/"
    },
    "id": "gvoaNvvb3x1p",
    "outputId": "043565fe-9c8a-4ad3-caf8-bb86d18cbdf6"
   },
   "outputs": [
    {
     "name": "stdout",
     "output_type": "stream",
     "text": [
      "WARNING:tensorflow:From /usr/local/lib/python3.6/dist-packages/tensorflow/python/ops/math_ops.py:3066: to_int32 (from tensorflow.python.ops.math_ops) is deprecated and will be removed in a future version.\n",
      "Instructions for updating:\n",
      "Use tf.cast instead.\n",
      "Train on 167772 samples, validate on 41943 samples\n",
      "Epoch 1/3\n",
      "167772/167772 [==============================] - 6s 35us/step - loss: 3.9953 - dense_3_loss: 0.5723 - dense_4_loss: 0.5210 - dense_5_loss: 0.6769 - dense_6_loss: 0.5957 - dense_7_loss: 0.5645 - dense_8_loss: 0.4509 - dense_9_loss: 0.6139 - dense_3_acc: 0.6549 - dense_4_acc: 0.9259 - dense_5_acc: 0.5339 - dense_6_acc: 0.7201 - dense_7_acc: 0.7525 - dense_8_acc: 0.8471 - dense_9_acc: 0.6898 - val_loss: 3.1017 - val_dense_3_loss: 0.4923 - val_dense_4_loss: 0.3264 - val_dense_5_loss: 0.4529 - val_dense_6_loss: 0.4292 - val_dense_7_loss: 0.4423 - val_dense_8_loss: 0.4251 - val_dense_9_loss: 0.5334 - val_dense_3_acc: 0.6807 - val_dense_4_acc: 0.9684 - val_dense_5_acc: 0.8354 - val_dense_6_acc: 0.8873 - val_dense_7_acc: 0.7868 - val_dense_8_acc: 0.8465 - val_dense_9_acc: 0.8025\n",
      "Epoch 2/3\n",
      "167772/167772 [==============================] - 4s 27us/step - loss: 2.3629 - dense_3_loss: 0.3499 - dense_4_loss: 0.2194 - dense_5_loss: 0.3170 - dense_6_loss: 0.2710 - dense_7_loss: 0.3539 - dense_8_loss: 0.4221 - dense_9_loss: 0.4298 - dense_3_acc: 0.8854 - dense_4_acc: 0.9695 - dense_5_acc: 0.9074 - dense_6_acc: 0.9669 - dense_7_acc: 0.8186 - dense_8_acc: 0.8471 - dense_9_acc: 0.8359 - val_loss: 1.7115 - val_dense_3_loss: 0.1926 - val_dense_4_loss: 0.1538 - val_dense_5_loss: 0.1883 - val_dense_6_loss: 0.1480 - val_dense_7_loss: 0.2818 - val_dense_8_loss: 0.4124 - val_dense_9_loss: 0.3345 - val_dense_3_acc: 0.9790 - val_dense_4_acc: 0.9684 - val_dense_5_acc: 0.9848 - val_dense_6_acc: 0.9847 - val_dense_7_acc: 0.8785 - val_dense_8_acc: 0.8465 - val_dense_9_acc: 0.8440\n",
      "Epoch 3/3\n",
      "167772/167772 [==============================] - 4s 26us/step - loss: 1.3924 - dense_3_loss: 0.1292 - dense_4_loss: 0.1226 - dense_5_loss: 0.1177 - dense_6_loss: 0.1004 - dense_7_loss: 0.2324 - dense_8_loss: 0.3934 - dense_9_loss: 0.2967 - dense_3_acc: 0.9790 - dense_4_acc: 0.9695 - dense_5_acc: 0.9899 - dense_6_acc: 0.9857 - dense_7_acc: 0.9142 - dense_8_acc: 0.8471 - dense_9_acc: 0.8587 - val_loss: 1.1866 - val_dense_3_loss: 0.0914 - val_dense_4_loss: 0.1053 - val_dense_5_loss: 0.0743 - val_dense_6_loss: 0.0751 - val_dense_7_loss: 0.1974 - val_dense_8_loss: 0.3782 - val_dense_9_loss: 0.2649 - val_dense_3_acc: 0.9790 - val_dense_4_acc: 0.9684 - val_dense_5_acc: 0.9903 - val_dense_6_acc: 0.9847 - val_dense_7_acc: 0.9490 - val_dense_8_acc: 0.8465 - val_dense_9_acc: 0.8773\n",
      "__________________________________________________________________________________________________\n",
      "Layer (type)                    Output Shape         Param #     Connected to                     \n",
      "==================================================================================================\n",
      "input_1 (InputLayer)            (None, 23)           0                                            \n",
      "__________________________________________________________________________________________________\n",
      "dense_1 (Dense)                 (None, 23)           552         input_1[0][0]                    \n",
      "__________________________________________________________________________________________________\n",
      "dense_2 (Dense)                 (None, 16)           384         dense_1[0][0]                    \n",
      "__________________________________________________________________________________________________\n",
      "dense_3 (Dense)                 (None, 1)            17          dense_2[0][0]                    \n",
      "__________________________________________________________________________________________________\n",
      "dense_4 (Dense)                 (None, 1)            17          dense_2[0][0]                    \n",
      "__________________________________________________________________________________________________\n",
      "dense_5 (Dense)                 (None, 1)            17          dense_2[0][0]                    \n",
      "__________________________________________________________________________________________________\n",
      "dense_6 (Dense)                 (None, 1)            17          dense_2[0][0]                    \n",
      "__________________________________________________________________________________________________\n",
      "dense_7 (Dense)                 (None, 1)            17          dense_2[0][0]                    \n",
      "__________________________________________________________________________________________________\n",
      "dense_8 (Dense)                 (None, 1)            17          dense_2[0][0]                    \n",
      "__________________________________________________________________________________________________\n",
      "dense_9 (Dense)                 (None, 1)            17          dense_2[0][0]                    \n",
      "==================================================================================================\n",
      "Total params: 1,055\n",
      "Trainable params: 1,055\n",
      "Non-trainable params: 0\n",
      "__________________________________________________________________________________________________\n",
      "None\n",
      "Saved model to disk\n"
     ]
    }
   ],
   "source": [
    "history=model.fit(Xout, y=[Y1,Y2,Y3,Y4,Y5,Y6,Y7], validation_split=0.2, epochs=3, batch_size=128)\n",
    "print(model.summary())\n",
    "model.save(\"/content/drive/MyDrive/sample_d1.h5\")\n",
    "print(\"Saved model to disk\")"
   ]
  },
  {
   "cell_type": "code",
   "execution_count": null,
   "metadata": {
    "id": "MrttPnk83-Ge"
   },
   "outputs": [],
   "source": [
    ""
   ]
  },
  {
   "cell_type": "code",
   "execution_count": null,
   "metadata": {
    "id": "Hykru4lbTXbV"
   },
   "outputs": [],
   "source": [
    "# data 2\n",
    "train = []\n",
    "Y = []\n",
    "X = []\n",
    "Xt = []\n",
    "Yt = []\n",
    "Yd = []\n",
    "with open(\"/content/drive/MyDrive/norm_combined_data_1.csv\", 'r') as r:\n",
    "    c = 0\n",
    "    reader = csv.reader(r)\n",
    "    for row in reader:\n",
    "        if c==0:\n",
    "            c+=1\n",
    "            continue\n",
    "        r1 = []\n",
    "        for j in range(0,len(row)):\n",
    "            r1.append(float(row[j]))\n",
    "        X.append(numpy.array(r1[:len(r1)-7]))\n",
    "            #Y.append(numpy.array(i[len(i)-7:]))\n",
    "        Yd.append(r1[len(r1)-7:])\n",
    "            #train.append(r1)\n",
    "            #print(r1)\n",
    "        c+=1"
   ]
  },
  {
   "cell_type": "code",
   "execution_count": null,
   "metadata": {
    "id": "GyUt2ppnt7XZ",
    "colab": {
     "base_uri": "https://localhost:8080/"
    },
    "outputId": "3ff75e29-0246-46e4-f96b-16f6184ed8b2"
   },
   "outputs": [
    {
     "name": "stdout",
     "output_type": "stream",
     "text": [
      "(209715, 23)\n"
     ]
    }
   ],
   "source": [
    "Y1=[]\n",
    "Y2=[]\n",
    "Y3=[]\n",
    "Y4=[]\n",
    "Y5=[]\n",
    "Y6=[]\n",
    "Y7=[]\n",
    "for i in range(0,len(Yd)):\n",
    "    Y1.append(Yd[i][0])\n",
    "    Y2.append(Yd[i][1])\n",
    "    Y3.append(Yd[i][2])\n",
    "    Y4.append(Yd[i][3])\n",
    "    Y5.append(Yd[i][4])\n",
    "    Y6.append(Yd[i][5])\n",
    "    Y7.append(Yd[i][6])\n",
    "Xout = numpy.array(X)\n",
    "Y1 = numpy.array(Y1)\n",
    "Y2 = numpy.array(Y2)\n",
    "Y3 = numpy.array(Y3)\n",
    "Y4 = numpy.array(Y4)\n",
    "Y5 = numpy.array(Y5)\n",
    "Y6 = numpy.array(Y6)\n",
    "Y7 = numpy.array(Y7)\n",
    "print(Xout.shape)"
   ]
  },
  {
   "cell_type": "code",
   "execution_count": null,
   "metadata": {
    "id": "1EGcljQCTgpQ",
    "colab": {
     "base_uri": "https://localhost:8080/"
    },
    "outputId": "88434e2c-8aec-41c6-9024-763cec143222"
   },
   "outputs": [
    {
     "name": "stdout",
     "output_type": "stream",
     "text": [
      "Train on 167772 samples, validate on 41943 samples\n",
      "Epoch 1/1\n",
      "167772/167772 [==============================] - 11s 68us/step - loss: 2.1070 - dense_111_loss: 0.2928 - dense_112_loss: 0.2707 - dense_113_loss: 0.1833 - dense_114_loss: 0.2152 - dense_115_loss: 0.3601 - dense_116_loss: 0.3889 - dense_117_loss: 0.3960 - dense_111_acc: 0.9290 - dense_112_acc: 0.9686 - dense_113_acc: 0.9721 - dense_114_acc: 0.9798 - dense_115_acc: 0.8208 - dense_116_acc: 0.8423 - dense_117_acc: 0.8378 - val_loss: 1.5492 - val_dense_111_loss: 0.1644 - val_dense_112_loss: 0.1666 - val_dense_113_loss: 0.1071 - val_dense_114_loss: 0.1212 - val_dense_115_loss: 0.2864 - val_dense_116_loss: 0.3875 - val_dense_117_loss: 0.3159 - val_dense_111_acc: 0.9784 - val_dense_112_acc: 0.9694 - val_dense_113_acc: 0.9902 - val_dense_114_acc: 0.9862 - val_dense_115_acc: 0.8643 - val_dense_116_acc: 0.8382 - val_dense_117_acc: 0.8817\n",
      "__________________________________________________________________________________________________\n",
      "Layer (type)                    Output Shape         Param #     Connected to                     \n",
      "==================================================================================================\n",
      "input_13 (InputLayer)           (None, 23)           0                                            \n",
      "__________________________________________________________________________________________________\n",
      "dense_109 (Dense)               (None, 23)           552         input_13[0][0]                   \n",
      "__________________________________________________________________________________________________\n",
      "dense_110 (Dense)               (None, 16)           384         dense_109[0][0]                  \n",
      "__________________________________________________________________________________________________\n",
      "dense_111 (Dense)               (None, 1)            17          dense_110[0][0]                  \n",
      "__________________________________________________________________________________________________\n",
      "dense_112 (Dense)               (None, 1)            17          dense_110[0][0]                  \n",
      "__________________________________________________________________________________________________\n",
      "dense_113 (Dense)               (None, 1)            17          dense_110[0][0]                  \n",
      "__________________________________________________________________________________________________\n",
      "dense_114 (Dense)               (None, 1)            17          dense_110[0][0]                  \n",
      "__________________________________________________________________________________________________\n",
      "dense_115 (Dense)               (None, 1)            17          dense_110[0][0]                  \n",
      "__________________________________________________________________________________________________\n",
      "dense_116 (Dense)               (None, 1)            17          dense_110[0][0]                  \n",
      "__________________________________________________________________________________________________\n",
      "dense_117 (Dense)               (None, 1)            17          dense_110[0][0]                  \n",
      "==================================================================================================\n",
      "Total params: 1,055\n",
      "Trainable params: 1,055\n",
      "Non-trainable params: 0\n",
      "__________________________________________________________________________________________________\n",
      "None\n",
      "Saved model to disk\n"
     ]
    }
   ],
   "source": [
    "model = keras.models.load_model('/content/drive/MyDrive/sample_d1.h5')\n",
    "history=model.fit(Xout, y=[Y1,Y2,Y3,Y4,Y5,Y6,Y7], validation_split=0.2, epochs=1, batch_size=128)\n",
    "print(model.summary())\n",
    "model.save(\"/content/drive/MyDrive/sample_d2.h5\")\n",
    "print(\"Saved model to disk\")"
   ]
  },
  {
   "cell_type": "code",
   "execution_count": null,
   "metadata": {
    "id": "TMi4XBsN9OUc"
   },
   "outputs": [],
   "source": [
    ""
   ]
  },
  {
   "cell_type": "code",
   "execution_count": null,
   "metadata": {
    "id": "Db05WaSG9OqS"
   },
   "outputs": [],
   "source": [
    "# data 3\n",
    "train = []\n",
    "Y = []\n",
    "X = []\n",
    "Xt = []\n",
    "Yt = []\n",
    "Yd = []\n",
    "with open(\"/content/drive/MyDrive/norm_combined_data_3.csv\", 'r') as r:\n",
    "    c = 0\n",
    "    reader = csv.reader(r)\n",
    "    for row in reader:\n",
    "        if c==0:\n",
    "            c+=1\n",
    "            continue\n",
    "        r1 = []\n",
    "        for j in range(0,len(row)):\n",
    "            r1.append(float(row[j]))\n",
    "        X.append(numpy.array(r1[:len(r1)-7]))\n",
    "            #Y.append(numpy.array(i[len(i)-7:]))\n",
    "        Yd.append(r1[len(r1)-7:])\n",
    "            #train.append(r1)\n",
    "            #print(r1)\n",
    "        c+=1"
   ]
  },
  {
   "cell_type": "code",
   "execution_count": null,
   "metadata": {
    "colab": {
     "base_uri": "https://localhost:8080/"
    },
    "id": "R21O8n_S9E43",
    "outputId": "c6205ac1-9df7-4ed1-ddb5-e0fee4951c71"
   },
   "outputs": [
    {
     "name": "stdout",
     "output_type": "stream",
     "text": [
      "(209715, 23)\n"
     ]
    }
   ],
   "source": [
    "Y1=[]\n",
    "Y2=[]\n",
    "Y3=[]\n",
    "Y4=[]\n",
    "Y5=[]\n",
    "Y6=[]\n",
    "Y7=[]\n",
    "for i in range(0,len(Yd)):\n",
    "    Y1.append(Yd[i][0])\n",
    "    Y2.append(Yd[i][1])\n",
    "    Y3.append(Yd[i][2])\n",
    "    Y4.append(Yd[i][3])\n",
    "    Y5.append(Yd[i][4])\n",
    "    Y6.append(Yd[i][5])\n",
    "    Y7.append(Yd[i][6])\n",
    "Xout = numpy.array(X)\n",
    "Y1 = numpy.array(Y1)\n",
    "Y2 = numpy.array(Y2)\n",
    "Y3 = numpy.array(Y3)\n",
    "Y4 = numpy.array(Y4)\n",
    "Y5 = numpy.array(Y5)\n",
    "Y6 = numpy.array(Y6)\n",
    "Y7 = numpy.array(Y7)\n",
    "print(Xout.shape)"
   ]
  },
  {
   "cell_type": "code",
   "execution_count": null,
   "metadata": {
    "colab": {
     "base_uri": "https://localhost:8080/"
    },
    "id": "udvruHHp9ZMx",
    "outputId": "79feb03d-d9c4-477c-e9b1-7cd806a32caa"
   },
   "outputs": [
    {
     "name": "stdout",
     "output_type": "stream",
     "text": [
      "Train on 167772 samples, validate on 41943 samples\n",
      "Epoch 1/1\n",
      "167772/167772 [==============================] - 11s 66us/step - loss: 0.1243 - dense_42_loss: 0.0048 - dense_43_loss: 0.0183 - dense_44_loss: 0.0051 - dense_45_loss: 0.0135 - dense_46_loss: 0.0125 - dense_47_loss: 0.0403 - dense_48_loss: 0.0297 - dense_42_acc: 0.9992 - dense_43_acc: 0.9936 - dense_44_acc: 0.9994 - dense_45_acc: 0.9931 - dense_46_acc: 0.9942 - dense_47_acc: 0.9843 - dense_48_acc: 0.9889 - val_loss: 0.1196 - val_dense_42_loss: 0.0042 - val_dense_43_loss: 0.0190 - val_dense_44_loss: 0.0046 - val_dense_45_loss: 0.0137 - val_dense_46_loss: 0.0135 - val_dense_47_loss: 0.0379 - val_dense_48_loss: 0.0268 - val_dense_42_acc: 0.9990 - val_dense_43_acc: 0.9862 - val_dense_44_acc: 0.9994 - val_dense_45_acc: 0.9925 - val_dense_46_acc: 0.9932 - val_dense_47_acc: 0.9893 - val_dense_48_acc: 0.9922\n",
      "__________________________________________________________________________________________________\n",
      "Layer (type)                    Output Shape         Param #     Connected to                     \n",
      "==================================================================================================\n",
      "input_5 (InputLayer)            (None, 23)           0                                            \n",
      "__________________________________________________________________________________________________\n",
      "dense_40 (Dense)                (None, 23)           552         input_5[0][0]                    \n",
      "__________________________________________________________________________________________________\n",
      "dense_41 (Dense)                (None, 16)           384         dense_40[0][0]                   \n",
      "__________________________________________________________________________________________________\n",
      "dense_42 (Dense)                (None, 1)            17          dense_41[0][0]                   \n",
      "__________________________________________________________________________________________________\n",
      "dense_43 (Dense)                (None, 1)            17          dense_41[0][0]                   \n",
      "__________________________________________________________________________________________________\n",
      "dense_44 (Dense)                (None, 1)            17          dense_41[0][0]                   \n",
      "__________________________________________________________________________________________________\n",
      "dense_45 (Dense)                (None, 1)            17          dense_41[0][0]                   \n",
      "__________________________________________________________________________________________________\n",
      "dense_46 (Dense)                (None, 1)            17          dense_41[0][0]                   \n",
      "__________________________________________________________________________________________________\n",
      "dense_47 (Dense)                (None, 1)            17          dense_41[0][0]                   \n",
      "__________________________________________________________________________________________________\n",
      "dense_48 (Dense)                (None, 1)            17          dense_41[0][0]                   \n",
      "==================================================================================================\n",
      "Total params: 1,055\n",
      "Trainable params: 1,055\n",
      "Non-trainable params: 0\n",
      "__________________________________________________________________________________________________\n",
      "None\n",
      "Saved model to disk\n"
     ]
    }
   ],
   "source": [
    "model = keras.models.load_model('/content/drive/MyDrive/shuffled_model_d2.h5')\n",
    "history=model.fit(Xout, y=[Y1,Y2,Y3,Y4,Y5,Y6,Y7], validation_split=0.2, epochs=1, batch_size=128)\n",
    "print(model.summary())\n",
    "model.save(\"/content/drive/MyDrive/sample_d3.h5\")\n",
    "print(\"Saved model to disk\")"
   ]
  },
  {
   "cell_type": "code",
   "execution_count": null,
   "metadata": {
    "id": "fstQus2F9cda"
   },
   "outputs": [],
   "source": [
    ""
   ]
  },
  {
   "cell_type": "code",
   "execution_count": null,
   "metadata": {
    "id": "ZAcBjUmR95aw"
   },
   "outputs": [],
   "source": [
    "# data 4\n",
    "train = []\n",
    "Y = []\n",
    "X = []\n",
    "Xt = []\n",
    "Yt = []\n",
    "Yd = []\n",
    "with open(\"/content/drive/MyDrive/norm_combined_data_4.csv\", 'r') as r:\n",
    "    c = 0\n",
    "    reader = csv.reader(r)\n",
    "    for row in reader:\n",
    "        if c==0:\n",
    "            c+=1\n",
    "            continue\n",
    "        r1 = []\n",
    "        for j in range(0,len(row)):\n",
    "            r1.append(float(row[j]))\n",
    "        X.append(numpy.array(r1[:len(r1)-7]))\n",
    "            #Y.append(numpy.array(i[len(i)-7:]))\n",
    "        Yd.append(r1[len(r1)-7:])\n",
    "            #train.append(r1)\n",
    "            #print(r1)\n",
    "        c+=1"
   ]
  },
  {
   "cell_type": "code",
   "execution_count": null,
   "metadata": {
    "colab": {
     "base_uri": "https://localhost:8080/"
    },
    "id": "YRt3fbV791rx",
    "outputId": "fa4b6ca0-e712-4c0a-f617-a8d82968048b"
   },
   "outputs": [
    {
     "name": "stdout",
     "output_type": "stream",
     "text": [
      "(209715, 23)\n"
     ]
    }
   ],
   "source": [
    "Y1=[]\n",
    "Y2=[]\n",
    "Y3=[]\n",
    "Y4=[]\n",
    "Y5=[]\n",
    "Y6=[]\n",
    "Y7=[]\n",
    "for i in range(0,len(Yd)):\n",
    "    Y1.append(Yd[i][0])\n",
    "    Y2.append(Yd[i][1])\n",
    "    Y3.append(Yd[i][2])\n",
    "    Y4.append(Yd[i][3])\n",
    "    Y5.append(Yd[i][4])\n",
    "    Y6.append(Yd[i][5])\n",
    "    Y7.append(Yd[i][6])\n",
    "Xout = numpy.array(X)\n",
    "Y1 = numpy.array(Y1)\n",
    "Y2 = numpy.array(Y2)\n",
    "Y3 = numpy.array(Y3)\n",
    "Y4 = numpy.array(Y4)\n",
    "Y5 = numpy.array(Y5)\n",
    "Y6 = numpy.array(Y6)\n",
    "Y7 = numpy.array(Y7)\n",
    "print(Xout.shape)"
   ]
  },
  {
   "cell_type": "code",
   "execution_count": null,
   "metadata": {
    "colab": {
     "base_uri": "https://localhost:8080/"
    },
    "id": "RHAxbhL69cn5",
    "outputId": "14bfc506-54ba-471d-e435-7a2a3d7041ad"
   },
   "outputs": [
    {
     "name": "stdout",
     "output_type": "stream",
     "text": [
      "Train on 167772 samples, validate on 41943 samples\n",
      "Epoch 1/3\n",
      "167772/167772 [==============================] - 9s 56us/step - loss: 0.0595 - dense_42_loss: 0.0025 - dense_43_loss: 0.0120 - dense_44_loss: 0.0011 - dense_45_loss: 0.0057 - dense_46_loss: 0.0100 - dense_47_loss: 0.0168 - dense_48_loss: 0.0114 - dense_42_acc: 0.9996 - dense_43_acc: 0.9980 - dense_44_acc: 1.0000 - dense_45_acc: 0.9992 - dense_46_acc: 0.9958 - dense_47_acc: 0.9965 - dense_48_acc: 0.9984 - val_loss: 0.0532 - val_dense_42_loss: 0.0028 - val_dense_43_loss: 0.0108 - val_dense_44_loss: 9.6480e-04 - val_dense_45_loss: 0.0045 - val_dense_46_loss: 0.0096 - val_dense_47_loss: 0.0146 - val_dense_48_loss: 0.0099 - val_dense_42_acc: 0.9992 - val_dense_43_acc: 0.9990 - val_dense_44_acc: 1.0000 - val_dense_45_acc: 0.9996 - val_dense_46_acc: 0.9942 - val_dense_47_acc: 0.9971 - val_dense_48_acc: 0.9979\n",
      "Epoch 2/3\n",
      "167772/167772 [==============================] - 5s 32us/step - loss: 0.0515 - dense_42_loss: 0.0020 - dense_43_loss: 0.0105 - dense_44_loss: 8.3539e-04 - dense_45_loss: 0.0044 - dense_46_loss: 0.0096 - dense_47_loss: 0.0146 - dense_48_loss: 0.0095 - dense_42_acc: 0.9997 - dense_43_acc: 0.9988 - dense_44_acc: 1.0000 - dense_45_acc: 0.9995 - dense_46_acc: 0.9960 - dense_47_acc: 0.9971 - dense_48_acc: 0.9985 - val_loss: 0.0455 - val_dense_42_loss: 0.0021 - val_dense_43_loss: 0.0097 - val_dense_44_loss: 7.3421e-04 - val_dense_45_loss: 0.0037 - val_dense_46_loss: 0.0091 - val_dense_47_loss: 0.0127 - val_dense_48_loss: 0.0075 - val_dense_42_acc: 1.0000 - val_dense_43_acc: 0.9998 - val_dense_44_acc: 1.0000 - val_dense_45_acc: 0.9997 - val_dense_46_acc: 0.9961 - val_dense_47_acc: 0.9979 - val_dense_48_acc: 0.9995\n",
      "Epoch 3/3\n",
      "167772/167772 [==============================] - 5s 32us/step - loss: 0.0445 - dense_42_loss: 0.0017 - dense_43_loss: 0.0090 - dense_44_loss: 6.2062e-04 - dense_45_loss: 0.0034 - dense_46_loss: 0.0091 - dense_47_loss: 0.0129 - dense_48_loss: 0.0079 - dense_42_acc: 0.9998 - dense_43_acc: 0.9990 - dense_44_acc: 1.0000 - dense_45_acc: 0.9997 - dense_46_acc: 0.9962 - dense_47_acc: 0.9974 - dense_48_acc: 0.9988 - val_loss: 0.0397 - val_dense_42_loss: 0.0020 - val_dense_43_loss: 0.0079 - val_dense_44_loss: 4.8790e-04 - val_dense_45_loss: 0.0029 - val_dense_46_loss: 0.0084 - val_dense_47_loss: 0.0112 - val_dense_48_loss: 0.0069 - val_dense_42_acc: 0.9995 - val_dense_43_acc: 0.9997 - val_dense_44_acc: 1.0000 - val_dense_45_acc: 0.9998 - val_dense_46_acc: 0.9966 - val_dense_47_acc: 0.9989 - val_dense_48_acc: 0.9997\n",
      "__________________________________________________________________________________________________\n",
      "Layer (type)                    Output Shape         Param #     Connected to                     \n",
      "==================================================================================================\n",
      "input_5 (InputLayer)            (None, 23)           0                                            \n",
      "__________________________________________________________________________________________________\n",
      "dense_40 (Dense)                (None, 23)           552         input_5[0][0]                    \n",
      "__________________________________________________________________________________________________\n",
      "dense_41 (Dense)                (None, 16)           384         dense_40[0][0]                   \n",
      "__________________________________________________________________________________________________\n",
      "dense_42 (Dense)                (None, 1)            17          dense_41[0][0]                   \n",
      "__________________________________________________________________________________________________\n",
      "dense_43 (Dense)                (None, 1)            17          dense_41[0][0]                   \n",
      "__________________________________________________________________________________________________\n",
      "dense_44 (Dense)                (None, 1)            17          dense_41[0][0]                   \n",
      "__________________________________________________________________________________________________\n",
      "dense_45 (Dense)                (None, 1)            17          dense_41[0][0]                   \n",
      "__________________________________________________________________________________________________\n",
      "dense_46 (Dense)                (None, 1)            17          dense_41[0][0]                   \n",
      "__________________________________________________________________________________________________\n",
      "dense_47 (Dense)                (None, 1)            17          dense_41[0][0]                   \n",
      "__________________________________________________________________________________________________\n",
      "dense_48 (Dense)                (None, 1)            17          dense_41[0][0]                   \n",
      "==================================================================================================\n",
      "Total params: 1,055\n",
      "Trainable params: 1,055\n",
      "Non-trainable params: 0\n",
      "__________________________________________________________________________________________________\n",
      "None\n",
      "Saved model to disk\n"
     ]
    }
   ],
   "source": [
    "model = keras.models.load_model('/content/drive/MyDrive/shuffled_model_d3.h5')\n",
    "history=model.fit(Xout, y=[Y1,Y2,Y3,Y4,Y5,Y6,Y7], validation_split=0.2, epochs=3, batch_size=128)\n",
    "print(model.summary())\n",
    "model.save(\"/content/drive/MyDrive/sample_d4.h5\")\n",
    "print(\"Saved model to disk\")"
   ]
  },
  {
   "cell_type": "code",
   "execution_count": null,
   "metadata": {
    "id": "ABMX5Dj3BY0m"
   },
   "outputs": [],
   "source": [
    ""
   ]
  },
  {
   "cell_type": "code",
   "execution_count": null,
   "metadata": {
    "id": "QctvW4oOB3zt"
   },
   "outputs": [],
   "source": [
    "# test\n",
    "train = []\n",
    "Y = []\n",
    "X = []\n",
    "Xt = []\n",
    "Yt = []\n",
    "Yd = []\n",
    "with open(\"/content/drive/MyDrive/norm_combined_data_5.csv\", 'r') as r:\n",
    "    c = 0\n",
    "    reader = csv.reader(r)\n",
    "    for row in reader:\n",
    "        if c==0:\n",
    "            c+=1\n",
    "            continue\n",
    "        r1 = []\n",
    "        for j in range(0,len(row)):\n",
    "            r1.append(float(row[j]))\n",
    "        X.append(numpy.array(r1[:len(r1)-7]))\n",
    "            #Y.append(numpy.array(i[len(i)-7:]))\n",
    "        Yd.append(r1[len(r1)-7:])\n",
    "            #train.append(r1)\n",
    "            #print(r1)\n",
    "        c+=1"
   ]
  },
  {
   "cell_type": "code",
   "execution_count": null,
   "metadata": {
    "colab": {
     "base_uri": "https://localhost:8080/"
    },
    "id": "p2fWm859CA6q",
    "outputId": "723b4ef3-564c-47ed-fbc8-4c6ddb7d83f9"
   },
   "outputs": [
    {
     "name": "stdout",
     "output_type": "stream",
     "text": [
      "(209715, 23)\n"
     ]
    }
   ],
   "source": [
    "Y1=[]\n",
    "Y2=[]\n",
    "Y3=[]\n",
    "Y4=[]\n",
    "Y5=[]\n",
    "Y6=[]\n",
    "Y7=[]\n",
    "for i in range(0,len(Yd)):\n",
    "    Y1.append(Yd[i][0])\n",
    "    Y2.append(Yd[i][1])\n",
    "    Y3.append(Yd[i][2])\n",
    "    Y4.append(Yd[i][3])\n",
    "    Y5.append(Yd[i][4])\n",
    "    Y6.append(Yd[i][5])\n",
    "    Y7.append(Yd[i][6])\n",
    "Xout = numpy.array(X)\n",
    "Y1 = numpy.array(Y1)\n",
    "Y2 = numpy.array(Y2)\n",
    "Y3 = numpy.array(Y3)\n",
    "Y4 = numpy.array(Y4)\n",
    "Y5 = numpy.array(Y5)\n",
    "Y6 = numpy.array(Y6)\n",
    "Y7 = numpy.array(Y7)\n",
    "print(Xout.shape)"
   ]
  },
  {
   "cell_type": "code",
   "execution_count": null,
   "metadata": {
    "colab": {
     "base_uri": "https://localhost:8080/"
    },
    "id": "QM5Cn7MbCPzH",
    "outputId": "58535b66-1252-4445-9c5c-cdfd4783d41e"
   },
   "outputs": [
    {
     "name": "stdout",
     "output_type": "stream",
     "text": [
      "loss: 118.38%\n",
      "dense_3_loss: 9.20%\n",
      "dense_4_loss: 10.41%\n",
      "dense_5_loss: 7.34%\n",
      "dense_6_loss: 7.28%\n",
      "dense_7_loss: 19.60%\n",
      "dense_8_loss: 37.84%\n",
      "dense_9_loss: 26.71%\n",
      "dense_3_acc: 97.87%\n",
      "dense_4_acc: 96.92%\n",
      "dense_5_acc: 99.06%\n",
      "dense_6_acc: 98.58%\n",
      "dense_7_acc: 95.07%\n",
      "dense_8_acc: 84.63%\n",
      "dense_9_acc: 87.58%\n"
     ]
    }
   ],
   "source": [
    "loaded_model = keras.models.load_model('/content/drive/MyDrive/sample_d1.h5')\n",
    "score = loaded_model.evaluate(Xout, y=[Y1,Y2,Y3,Y4,Y5,Y6,Y7], verbose=0)\n",
    "for i in range(0,len(score)):\n",
    "    print(\"%s: %.2f%%\" % (loaded_model.metrics_names[i], score[i]*100))\n",
    "\n",
    "predicted = loaded_model.predict(Xout)\n",
    "p_classes = numpy.argmax(predicted,axis=1)"
   ]
  },
  {
   "cell_type": "code",
   "execution_count": null,
   "metadata": {
    "colab": {
     "base_uri": "https://localhost:8080/"
    },
    "id": "hrx5m99lDG7r",
    "outputId": "facac7e0-506b-4566-838d-6ff6f7b18a86"
   },
   "outputs": [
    {
     "name": "stdout",
     "output_type": "stream",
     "text": [
      "139585\n",
      "66.55937820375271\n"
     ]
    }
   ],
   "source": [
    "p = []\n",
    "\n",
    "for x in numpy.nditer(predicted):\n",
    "    xi = []\n",
    "    for i in range(0,7):\n",
    "\n",
    "        if x[i] < float(0.5):\n",
    "            xi.append(0.0)\n",
    "        else:\n",
    "            xi.append(1.0)\n",
    "    p.append(xi)\n",
    "\n",
    "count = 0\n",
    "for i in range(0,len(Yd)):\n",
    "    v = 1\n",
    "    for j in range(0,len(Yd[i])):\n",
    "        if Yd[i][j]!=p[i][j]:\n",
    "            v = 0\n",
    "            break\n",
    "    if v==1:\n",
    "        count+=1\n",
    "\n",
    "print(count)\n",
    "print((count/len(Yd))*100)\n",
    "\n",
    "#print(history.history.keys())\n"
   ]
  },
  {
   "cell_type": "code",
   "execution_count": null,
   "metadata": {
    "colab": {
     "base_uri": "https://localhost:8080/",
     "height": 318.0
    },
    "id": "QrxoSkKzDiy0",
    "outputId": "58b9b94a-7f52-4d55-deb4-407382a8690a"
   },
   "outputs": [
    {
     "name": "stdout",
     "output_type": "stream",
     "text": [
      "summarize history for dense_3 layer\n"
     ]
    },
    {
     "data": {
      "image/png": "[encoded data removed]",
      "text/plain": [
       "<Figure size 432x288 with 1 Axes>"
      ]
     },
     "metadata": {
      "tags": [],
      "needs_background": "light"
     },
     "output_type": "display_data"
    }
   ],
   "source": [
    "%matplotlib inline\n",
    "print(\"summarize history for dense_3 layer\")\n",
    "# accuracy\n",
    "plt.plot(history.history['dense_43_acc'],sns.xkcd_rgb[\"pale red\"],label=\"Accuracy\", lw=3)\n",
    "plt.plot(history.history['val_dense_43_acc'],sns.xkcd_rgb[\"amber\"], label=\"Val. Acc\", lw=3)\n",
    "#plt.yticks(numpy.arange(ymin, ymax, 0.005))\n",
    "plt.title('Performance Accuracy of dense_layer_3')\n",
    "plt.ylabel('---Accuracy---')\n",
    "plt.xlabel('---Epochs---')\n",
    "plt.legend()\n",
    "plt.savefig('/content/drive/MyDrive/dense_3_acc.png')\n",
    "plt.show()"
   ]
  },
  {
   "cell_type": "code",
   "execution_count": null,
   "metadata": {
    "id": "YVOvnGJ9Eo56"
   },
   "outputs": [],
   "source": [
    "from sklearn.datasets import make_circles\n",
    "from sklearn.metrics import accuracy_score\n",
    "from sklearn.metrics import precision_score\n",
    "from sklearn.metrics import recall_score\n",
    "from sklearn.metrics import f1_score\n",
    "from sklearn.metrics import cohen_kappa_score\n",
    "from sklearn.metrics import roc_auc_score\n",
    "from sklearn.metrics import confusion_matrix\n",
    "from sklearn.metrics import auc\n",
    "from sklearn.metrics import roc_curve\n",
    "import pandas as pd\n",
    "import numpy as np\n"
   ]
  },
  {
   "cell_type": "code",
   "execution_count": null,
   "metadata": {
    "id": "qzqxwZ42GbEW"
   },
   "outputs": [],
   "source": [
    "loaded_model = keras.models.load_model('/content/drive/MyDrive/sample_d1.h5')"
   ]
  },
  {
   "cell_type": "code",
   "execution_count": null,
   "metadata": {
    "colab": {
     "base_uri": "https://localhost:8080/",
     "height": 1000.0
    },
    "id": "lHP2oQhYEq83",
    "outputId": "0d071e2c-11b8-4b93-ac0f-afc5c0b38a37"
   },
   "outputs": [
    {
     "name": "stdout",
     "output_type": "stream",
     "text": [
      "loss\n",
      "\n",
      "\n",
      "Accuracy: 0.978743\n",
      "Precision: 0.978743\n",
      "Recall: 0.978743\n",
      "F1 score: 0.978743\n",
      "Cohens kappa: 0.952313\n",
      "[[ 68024   4458]\n",
      " [     0 137233]]\n",
      "Predicted    0.0     1.0     All\n",
      "Actual                          \n",
      "0.0        68024    4458   72482\n",
      "1.0            0  137233  137233\n",
      "All        68024  141691  209715\n",
      "\n",
      "\n",
      "\n",
      "\n",
      "\n"
     ]
    },
    {
     "data": {
      "image/png": "[encoded data removed]",
      "text/plain": [
       "<Figure size 432x288 with 1 Axes>"
      ]
     },
     "metadata": {
      "tags": [],
      "needs_background": "light"
     },
     "output_type": "display_data"
    },
    {
     "name": "stdout",
     "output_type": "stream",
     "text": [
      "dense_3_loss\n",
      "\n",
      "\n",
      "Accuracy: 0.969201\n",
      "Precision: 0.969201\n",
      "Recall: 0.969201\n",
      "F1 score: 0.969201\n",
      "Cohens kappa: 0.938434\n",
      "[[103818      0]\n",
      " [  6459  99438]]\n",
      "Predicted     0.0    1.0     All\n",
      "Actual                          \n",
      "0.0        103818      0  103818\n",
      "1.0          6459  99438  105897\n",
      "All        110277  99438  209715\n",
      "\n",
      "\n",
      "\n",
      "\n",
      "\n"
     ]
    },
    {
     "data": {
      "image/png": "[encoded data removed]",
      "text/plain": [
       "<Figure size 432x288 with 1 Axes>"
      ]
     },
     "metadata": {
      "tags": [],
      "needs_background": "light"
     },
     "output_type": "display_data"
    },
    {
     "name": "stdout",
     "output_type": "stream",
     "text": [
      "dense_4_loss\n",
      "\n",
      "\n",
      "Accuracy: 0.990649\n",
      "Precision: 0.990649\n",
      "Recall: 0.990649\n",
      "F1 score: 0.990649\n",
      "Cohens kappa: 0.974220\n",
      "[[158822    990]\n",
      " [   971  48932]]\n",
      "Predicted     0.0    1.0     All\n",
      "Actual                          \n",
      "0.0        158822    990  159812\n",
      "1.0           971  48932   49903\n",
      "All        159793  49922  209715\n",
      "\n",
      "\n",
      "\n",
      "\n",
      "\n"
     ]
    },
    {
     "data": {
      "image/png": "[encoded data removed]",
      "text/plain": [
       "<Figure size 432x288 with 1 Axes>"
      ]
     },
     "metadata": {
      "tags": [],
      "needs_background": "light"
     },
     "output_type": "display_data"
    },
    {
     "name": "stdout",
     "output_type": "stream",
     "text": [
      "dense_5_loss\n",
      "\n",
      "\n",
      "Accuracy: 0.985828\n",
      "Precision: 0.985828\n",
      "Recall: 0.985828\n",
      "F1 score: 0.985828\n",
      "Cohens kappa: 0.971052\n",
      "[[118603   2972]\n",
      " [     0  88140]]\n",
      "Predicted     0.0    1.0     All\n",
      "Actual                          \n",
      "0.0        118603   2972  121575\n",
      "1.0             0  88140   88140\n",
      "All        118603  91112  209715\n",
      "\n",
      "\n",
      "\n",
      "\n",
      "\n"
     ]
    },
    {
     "data": {
      "image/png": "[encoded data removed]",
      "text/plain": [
       "<Figure size 432x288 with 1 Axes>"
      ]
     },
     "metadata": {
      "tags": [],
      "needs_background": "light"
     },
     "output_type": "display_data"
    },
    {
     "name": "stdout",
     "output_type": "stream",
     "text": [
      "dense_6_loss\n",
      "\n",
      "\n",
      "Accuracy: 0.950700\n",
      "Precision: 0.950700\n",
      "Recall: 0.950700\n",
      "F1 score: 0.950700\n",
      "Cohens kappa: 0.843385\n",
      "[[163573   2273]\n",
      " [  8066  35803]]\n",
      "Predicted     0.0    1.0     All\n",
      "Actual                          \n",
      "0.0        163573   2273  165846\n",
      "1.0          8066  35803   43869\n",
      "All        171639  38076  209715\n",
      "\n",
      "\n",
      "\n",
      "\n",
      "\n"
     ]
    },
    {
     "data": {
      "image/png": "[encoded data removed]",
      "text/plain": [
       "<Figure size 432x288 with 1 Axes>"
      ]
     },
     "metadata": {
      "tags": [],
      "needs_background": "light"
     },
     "output_type": "display_data"
    },
    {
     "name": "stdout",
     "output_type": "stream",
     "text": [
      "dense_7_loss\n",
      "\n",
      "\n",
      "Accuracy: 0.846339\n",
      "Precision: 0.846339\n",
      "Recall: 0.846339\n",
      "F1 score: 0.846339\n",
      "Cohens kappa: 0.000000\n",
      "[[177490      0]\n",
      " [ 32225      0]]\n",
      "Predicted     0.0     All\n",
      "Actual                   \n",
      "0.0        177490  177490\n",
      "1.0         32225   32225\n",
      "All        209715  209715\n",
      "\n",
      "\n",
      "\n",
      "\n",
      "\n"
     ]
    },
    {
     "data": {
      "image/png": "[encoded data removed]",
      "text/plain": [
       "<Figure size 432x288 with 1 Axes>"
      ]
     },
     "metadata": {
      "tags": [],
      "needs_background": "light"
     },
     "output_type": "display_data"
    },
    {
     "name": "stdout",
     "output_type": "stream",
     "text": [
      "dense_8_loss\n",
      "\n",
      "\n",
      "Accuracy: 0.875755\n",
      "Precision: 0.875755\n",
      "Recall: 0.875755\n",
      "F1 score: 0.875755\n",
      "Cohens kappa: 0.750390\n",
      "[[98988 14401]\n",
      " [11655 84671]]\n",
      "Predicted     0.0    1.0     All\n",
      "Actual                          \n",
      "0.0         98988  14401  113389\n",
      "1.0         11655  84671   96326\n",
      "All        110643  99072  209715\n",
      "\n",
      "\n",
      "\n",
      "\n",
      "\n"
     ]
    },
    {
     "data": {
      "image/png": "[encoded data removed]",
      "text/plain": [
       "<Figure size 432x288 with 1 Axes>"
      ]
     },
     "metadata": {
      "tags": [],
      "needs_background": "light"
     },
     "output_type": "display_data"
    }
   ],
   "source": [
    "%matplotlib inline\n",
    "\n",
    "for j in range(0,7):\n",
    "    Yt_1=[]\n",
    "    p_1=[]    \n",
    "    \n",
    "    for i in range(0,len(Yd)):\n",
    "        Yt_1.append(Yd[i][j])\n",
    "        if(p[i][j]<0.5):\n",
    "          p_1.append(0.0)\n",
    "        else:\n",
    "          p_1.append(1.0)\n",
    "        # p_1.append(np.argmax(p[i][j],axis=1))\n",
    "\n",
    "    \n",
    "    # plt.scatter(Yt_1,p_1)\n",
    "    # plt.xlabel(\"True\")\n",
    "    # plt.ylabel(\"Predict\")\n",
    "    # print(Yt_1)\n",
    "    # print(p_1)\n",
    "    print(loaded_model.metrics_names[j])\n",
    "    print(\"\\n\")\n",
    "    accuracy = accuracy_score(Yt_1, p_1)\n",
    "    print('Accuracy: %f' % accuracy)\n",
    "\n",
    "    # precision tp / (tp + fp)\n",
    "    precision = precision_score(Yt_1, p_1, average='micro')\n",
    "    print('Precision: %f' % precision)\n",
    "\n",
    "    # recall: tp / (tp + fn)\n",
    "    recall = recall_score(Yt_1, p_1, average='micro')\n",
    "    print('Recall: %f' % recall)\n",
    "\n",
    "    # f1: 2 tp / (2 tp + fp + fn)\n",
    "    f1 = f1_score(Yt_1, p_1, average='micro')\n",
    "    print('F1 score: %f' % f1)\n",
    "\n",
    "    # kappa\n",
    "    kappa = cohen_kappa_score(Yt_1, p_1)\n",
    "    print('Cohens kappa: %f' % kappa)\n",
    "\n",
    "    # ROC AUC\n",
    "    # auc = roc_auc_score(Yt_1, p_1)\n",
    "    # print('ROC AUC: %f' % auc)\n",
    "    \n",
    "    fp, tp, thresholds_keras = roc_curve(Yt_1,p_1)\n",
    "    \n",
    "    auc_rf = auc(fp,tp)\n",
    "    plt.plot(fp,tp,label=\"(area = {:.3f})\".format(auc_rf),color='r')\n",
    "    plt.xlabel('False positive rate')\n",
    "    plt.ylabel('True positive rate')\n",
    "    plt.title('ROC curve')\n",
    "    plt.legend(loc='best')\n",
    "\n",
    "    # confusion matrix\n",
    "    matrix = confusion_matrix(Yt_1, p_1)\n",
    "    print(matrix)\n",
    "\n",
    "    exp_series = pd.Series(Yt_1)\n",
    "    pred_series = pd.Series(p_1)\n",
    "    print(pd.crosstab(exp_series, pred_series, rownames=['Actual'], colnames=['Predicted'], margins=True))\n",
    "    print(\"\\n\\n\\n\\n\")\n",
    "    plt.savefig('/content/drive/MyDrive/ROC'+str(j)+'.png')\n",
    "    plt.show()\n",
    "    "
   ]
  },
  {
   "cell_type": "code",
   "execution_count": null,
   "metadata": {
    "id": "H3UnA4ttchIa"
   },
   "outputs": [],
   "source": [
    ""
   ]
  }
 ],
 "metadata": {
  "colab": {
   "name": "sdn_full_metrics.ipynb",
   "provenance": []
  },
  "kernelspec": {
   "name": "python3",
   "display_name": "Python 3"
  }
 },
 "nbformat": 4,
 "nbformat_minor": 0
}
